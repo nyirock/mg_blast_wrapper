{
 "cells": [
  {
   "cell_type": "markdown",
   "metadata": {},
   "source": [
    "## Building database\n",
    "I have 6 SS WPS2 genomes, so I'll concatenate sequences into a single combined fasta file"
   ]
  },
  {
   "cell_type": "markdown",
   "metadata": {},
   "source": [
    "## Version 1.3:\n",
    "- Functional programming\n",
    "- Combined assembled and unassembled"
   ]
  },
  {
   "cell_type": "code",
   "execution_count": 22,
   "metadata": {
    "collapsed": false
   },
   "outputs": [],
   "source": [
    "from Bio import SeqIO\n",
    "import time\n",
    "import os\n",
    "import shutil\n",
    "import pandas"
   ]
  },
  {
   "cell_type": "code",
   "execution_count": 103,
   "metadata": {
    "collapsed": true
   },
   "outputs": [],
   "source": [
    "#parameters\n",
    "version = 'v1.4'\n",
    "project_name = 'wps2_bl_metagenome'\n",
    "e_value = 1e-20\n",
    "iden = 95.0\n",
    "metric = 50.0"
   ]
  },
  {
   "cell_type": "markdown",
   "metadata": {},
   "source": []
  },
  {
   "cell_type": "code",
   "execution_count": 2,
   "metadata": {
    "collapsed": true
   },
   "outputs": [],
   "source": [
    "!cat ../ss_genomes/AP_WPS-2_bacterium* > ../ss_genomes/all_AP_WPS-2_bacterium.fna"
   ]
  },
  {
   "cell_type": "code",
   "execution_count": 2,
   "metadata": {
    "collapsed": true
   },
   "outputs": [],
   "source": []
  },
  {
   "cell_type": "code",
   "execution_count": null,
   "metadata": {
    "collapsed": true
   },
   "outputs": [],
   "source": []
  },
  {
   "cell_type": "markdown",
   "metadata": {},
   "source": []
  },
  {
   "cell_type": "code",
   "execution_count": 3,
   "metadata": {
    "collapsed": false
   },
   "outputs": [
    {
     "name": "stdout",
     "output_type": "stream",
     "text": [
      "\n",
      "\n",
      "Building a new DB, current time: 11/13/2016 23:46:34\n",
      "New DB name:   ../blast_db/combined_ss_WPS2/combined_ss_WPS2\n",
      "New DB title:  combined_ss_WPS2\n",
      "Sequence type: Nucleotide\n",
      "Keep Linkouts: T\n",
      "Keep MBits: T\n",
      "Maximum file size: 1000000000B\n",
      "Adding sequences from FASTA; added 665 sequences in 0.0848749 seconds.\n"
     ]
    }
   ],
   "source": [
    "!makeblastdb -in ../ss_genomes/all_AP_WPS-2_bacterium.fna -dbtype nucl -title \"combined_ss_WPS2\" -out ../blast_db/combined_ss_WPS2/combined_ss_WPS2 -parse_seqids"
   ]
  },
  {
   "cell_type": "markdown",
   "metadata": {},
   "source": [
    "### OK - verified"
   ]
  },
  {
   "cell_type": "markdown",
   "metadata": {},
   "source": [
    "# Running Blast query"
   ]
  },
  {
   "cell_type": "code",
   "execution_count": 3,
   "metadata": {
    "collapsed": false
   },
   "outputs": [
    {
     "name": "stdout",
     "output_type": "stream",
     "text": [
      "^C\r\n"
     ]
    }
   ],
   "source": [
    "import time\n",
    "start =time.time()\n",
    "!blastp -db test_pp_pmo -query 76969.assembled.faa -out assembl_contigs_vs_test_pp_pmo2.tab -evalue .00001 -outfmt 6 -num_threads 8\n",
    "print \"command was executed in %d seconds\"%(time.time()-start)"
   ]
  },
  {
   "cell_type": "markdown",
   "metadata": {},
   "source": [
    "## Optimizing number of threads - No real difference"
   ]
  },
  {
   "cell_type": "code",
   "execution_count": 1,
   "metadata": {
    "collapsed": false
   },
   "outputs": [
    {
     "name": "stdout",
     "output_type": "stream",
     "text": [
      "number of threads:  1\n",
      "exec time:  2587.95323396\n",
      "number of threads:  2\n",
      "exec time:  2689.65229201\n",
      "number of threads:  4\n",
      "exec time:  2710.735955\n",
      "number of threads:  6\n",
      "exec time:  2715.41233706\n",
      "number of threads:  8\n",
      "exec time:  2493.76898289\n"
     ]
    }
   ],
   "source": [
    "\n",
    "ex_time=list()\n",
    "num_thread=list()\n",
    "for i in [1,2,4,6,8]:\n",
    "    start =time.time()\n",
    "    !blastp -db test_pp_pmo -query 76969.assembled.faa -out assembl_contigs_vs_test_pp_pmo2.tab -evalue .00001 -outfmt 6 -num_threads {i}\n",
    "    elapsed=time.time()-start\n",
    "    print 'number of threads: ', i\n",
    "    print 'exec time: ', elapsed\n",
    "    ex_time.append(elapsed)\n",
    "    num_thread.append(i)"
   ]
  },
  {
   "cell_type": "code",
   "execution_count": null,
   "metadata": {
    "collapsed": true
   },
   "outputs": [],
   "source": []
  },
  {
   "cell_type": "code",
   "execution_count": null,
   "metadata": {
    "collapsed": true
   },
   "outputs": [],
   "source": []
  },
  {
   "cell_type": "markdown",
   "metadata": {},
   "source": [
    "# Defining functions"
   ]
  },
  {
   "cell_type": "code",
   "execution_count": 126,
   "metadata": {
    "collapsed": true
   },
   "outputs": [],
   "source": [
    "\n",
    "def parse_contigs_ind(f_name):\n",
    "    \"\"\"\n",
    "    Returns sequences index from the input files(s)\n",
    "    remember to close index object after use\n",
    "    \"\"\"\n",
    "    handle = open(f_name, \"rU\")\n",
    "    record_dict = SeqIO.index(f_name,\"fasta\")\n",
    "    handle.close()\n",
    "    return record_dict\n",
    "\n",
    "#returning specific sequences and overal list\n",
    "def retrive_sequence(contig_lst, rec_dic):\n",
    "    \"\"\"\n",
    "    Returns list of sequence elements from dictionary/index of SeqIO objects specific to the contig_lst parameter\n",
    "    \"\"\"\n",
    "    contig_seqs = list()\n",
    "    #record_dict = rec_dic\n",
    "    #handle.close()\n",
    "    for contig in contig_lst:\n",
    "        contig_seqs.append(rec_dic[contig].seq.tostring())\n",
    "    return contig_seqs\n",
    "\n",
    "\n",
    "def filter_seq_dict(key_lst, rec_dic):\n",
    "    \"\"\"\n",
    "    Returns filtered dictionary element from rec_dic according to sequence names passed in key_lst\n",
    "    \"\"\"\n",
    "    return { key: rec_dic[key] for key in key_lst }\n",
    "\n",
    "def unique_scaffold_topEval(dataframe):\n",
    "#returns pandas series object\n",
    "    variables = list(dataframe.columns.values)\n",
    "    scaffolds=dict()\n",
    "    rows=list()\n",
    "\n",
    "    for row in dataframe.itertuples():\n",
    "        \n",
    "        #if row[1]=='Ga0073928_10002560':\n",
    "        if row[1] not in scaffolds:\n",
    "            scaffolds[row[1]]=row\n",
    "        else:\n",
    "            if row[11]<scaffolds[row[1]][11]:\n",
    "                scaffolds[row[1]]=row\n",
    "    rows=scaffolds.values()\n",
    "    #variables=['quid', 'suid', 'iden', 'alen', 'mism', 'gapo', 'qsta', 'qend', 'ssta', 'send', 'eval', 'bits']\n",
    "    df = pandas.DataFrame([[getattr(i,j) for j in variables] for i in rows], columns = variables)\n",
    "    return df"
   ]
  },
  {
   "cell_type": "code",
   "execution_count": null,
   "metadata": {
    "collapsed": true
   },
   "outputs": [],
   "source": []
  },
  {
   "cell_type": "code",
   "execution_count": null,
   "metadata": {
    "collapsed": true
   },
   "outputs": [],
   "source": []
  },
  {
   "cell_type": "markdown",
   "metadata": {},
   "source": [
    "# Making all_WPS-2 Database [ln3] again more scalable way"
   ]
  },
  {
   "cell_type": "code",
   "execution_count": null,
   "metadata": {
    "collapsed": true
   },
   "outputs": [],
   "source": []
  },
  {
   "cell_type": "code",
   "execution_count": null,
   "metadata": {
    "collapsed": true
   },
   "outputs": [],
   "source": []
  },
  {
   "cell_type": "code",
   "execution_count": 3,
   "metadata": {
    "collapsed": true
   },
   "outputs": [],
   "source": [
    "iteration = 0"
   ]
  },
  {
   "cell_type": "code",
   "execution_count": 2,
   "metadata": {
    "collapsed": true
   },
   "outputs": [],
   "source": [
    "blast_db_homeDir = \"../blast_db/\""
   ]
  },
  {
   "cell_type": "code",
   "execution_count": 3,
   "metadata": {
    "collapsed": true
   },
   "outputs": [],
   "source": [
    "#!mkdir blast_db_homeDir"
   ]
  },
  {
   "cell_type": "markdown",
   "metadata": {},
   "source": [
    "## Reading Raw input file and creating specific input file"
   ]
  },
  {
   "cell_type": "code",
   "execution_count": 21,
   "metadata": {
    "collapsed": false
   },
   "outputs": [],
   "source": [
    "#command_line file of reference sequences\n",
    "reference_0 = \"../ss_genomes/all_AP_WPS-2_bacterium.fna\"\n",
    "\n",
    "input_dir = \"input_files\"\n",
    "if os.path.exists(input_dir):\n",
    "    shutil.rmtree(input_dir)\n",
    "try:\n",
    "    os.mkdir(input_dir)\n",
    "except OSError:\n",
    "    raise\n",
    "#returns \n",
    "records_0 = parse_contigs_ind(reference_0)\n",
    "ref_out_0 = \"input_files/reference0.fna\"\n",
    "with open(ref_out_0, \"w\") as handle:\n",
    "    SeqIO.write(records_0.values(), handle, \"fasta\")\n",
    "    #NO NEED TO CLOSE with statement will automatically close the file\n",
    "records_0.close()"
   ]
  },
  {
   "cell_type": "code",
   "execution_count": 13,
   "metadata": {
    "collapsed": false
   },
   "outputs": [],
   "source": []
  },
  {
   "cell_type": "code",
   "execution_count": 15,
   "metadata": {
    "collapsed": true
   },
   "outputs": [],
   "source": []
  },
  {
   "cell_type": "markdown",
   "metadata": {},
   "source": [
    "# After iteration0 is done:\n",
    "* filter assembled e-20: >=95 iden, >=50 metric\n",
    "* add records to output_1"
   ]
  },
  {
   "cell_type": "code",
   "execution_count": 66,
   "metadata": {
    "collapsed": true
   },
   "outputs": [],
   "source": [
    "output_1 = \"../ss_genomes/iteration1.fna\""
   ]
  },
  {
   "cell_type": "code",
   "execution_count": 83,
   "metadata": {
    "collapsed": false
   },
   "outputs": [
    {
     "name": "stdout",
     "output_type": "stream",
     "text": [
      "9594\n",
      "2085\n",
      "5658\n"
     ]
    }
   ],
   "source": [
    "iteration1_all =cutoff_contigs['1e-20_cutoff_contigs']\n",
    "print len(iteration1_all) \n",
    "len((iteration1_all[iteration1_all['iden']>=95.0]))\n",
    "print len((iteration1_all[iteration1_all['iden']>=95.0]))\n",
    "print len((iteration1_all[iteration1_all['Metric']>=50]))"
   ]
  },
  {
   "cell_type": "code",
   "execution_count": 89,
   "metadata": {
    "collapsed": false
   },
   "outputs": [
    {
     "data": {
      "text/plain": [
       "1828"
      ]
     },
     "execution_count": 89,
     "metadata": {},
     "output_type": "execute_result"
    }
   ],
   "source": [
    "iteration1_filtered = iteration1_all[(iteration1_all['iden']>=95.0)&(iteration1_all['Metric']>=50)]\n",
    "len(iteration1_filtered)"
   ]
  },
  {
   "cell_type": "code",
   "execution_count": 101,
   "metadata": {
    "collapsed": false
   },
   "outputs": [],
   "source": [
    "names = iteration1_filtered['quid'].tolist()"
   ]
  },
  {
   "cell_type": "code",
   "execution_count": 130,
   "metadata": {
    "collapsed": false
   },
   "outputs": [
    {
     "name": "stdout",
     "output_type": "stream",
     "text": [
      "<type 'dict'>\n"
     ]
    }
   ],
   "source": [
    "records_0 = dict(parse_contigs_ind(input_0))\n",
    "#all_records = parse_contigs_ind(assembled_contigs)\n",
    "records_1 = filter_seq_dict(names, all_records)\n",
    "print type(records_1)\n",
    "records_1.update(records_0)"
   ]
  },
  {
   "cell_type": "code",
   "execution_count": 131,
   "metadata": {
    "collapsed": false
   },
   "outputs": [
    {
     "data": {
      "text/plain": [
       "665"
      ]
     },
     "execution_count": 131,
     "metadata": {},
     "output_type": "execute_result"
    }
   ],
   "source": [
    "len(records_0.items())"
   ]
  },
  {
   "cell_type": "code",
   "execution_count": 132,
   "metadata": {
    "collapsed": false
   },
   "outputs": [
    {
     "data": {
      "text/plain": [
       "2493"
      ]
     },
     "execution_count": 132,
     "metadata": {},
     "output_type": "execute_result"
    }
   ],
   "source": [
    "len(records_1.items())"
   ]
  },
  {
   "cell_type": "markdown",
   "metadata": {},
   "source": [
    "# Outputting iteration 1"
   ]
  },
  {
   "cell_type": "code",
   "execution_count": 133,
   "metadata": {
    "collapsed": true
   },
   "outputs": [],
   "source": [
    "#records_0 = parse_contigs_ind(input_0)\n",
    "output_1_0 = \"../ss_genomes/iteration1_0.fna\"\n",
    "output_1 = \"../ss_genomes/iteration1_0.fna\"\n",
    "with open(output_1_0, \"w\") as handle:\n",
    "  SeqIO.write(records_0.values(), handle, \"fasta\")\n",
    "with open(output_1, \"w\") as handle:\n",
    "  SeqIO.write(records_1.values(), handle, \"fasta\")"
   ]
  },
  {
   "cell_type": "code",
   "execution_count": null,
   "metadata": {
    "collapsed": true
   },
   "outputs": [],
   "source": []
  },
  {
   "cell_type": "markdown",
   "metadata": {},
   "source": [
    "## Repeating what we've done"
   ]
  },
  {
   "cell_type": "code",
   "execution_count": 110,
   "metadata": {
    "collapsed": false
   },
   "outputs": [
    {
     "data": {
      "text/plain": [
       "dict"
      ]
     },
     "execution_count": 110,
     "metadata": {},
     "output_type": "execute_result"
    }
   ],
   "source": [
    "type(records_1)\n",
    "\n",
    "\n",
    "# output_0 = \"../ss_genomes/iteration0.fna\"\n",
    "# with open(output_0, \"w\") as handle:\n",
    "#   SeqIO.write(records_0.values(), handle, \"fasta\")"
   ]
  },
  {
   "cell_type": "code",
   "execution_count": 105,
   "metadata": {
    "collapsed": false
   },
   "outputs": [
    {
     "data": {
      "text/plain": [
       "665"
      ]
     },
     "execution_count": 105,
     "metadata": {},
     "output_type": "execute_result"
    }
   ],
   "source": [
    "len(records_0)"
   ]
  },
  {
   "cell_type": "code",
   "execution_count": null,
   "metadata": {
    "collapsed": true
   },
   "outputs": [],
   "source": []
  },
  {
   "cell_type": "markdown",
   "metadata": {},
   "source": [
    "## adding those to the database "
   ]
  },
  {
   "cell_type": "code",
   "execution_count": 80,
   "metadata": {
    "collapsed": false
   },
   "outputs": [
    {
     "ename": "TypeError",
     "evalue": "unsupported operand type(s) for &: 'str' and 'str'",
     "output_type": "error",
     "traceback": [
      "\u001b[0;31m---------------------------------------------------------------------------\u001b[0m",
      "\u001b[0;31mTypeError\u001b[0m                                 Traceback (most recent call last)",
      "\u001b[0;32m<ipython-input-80-91486e773425>\u001b[0m in \u001b[0;36m<module>\u001b[0;34m()\u001b[0m\n\u001b[0;32m----> 1\u001b[0;31m \u001b[1;33m(\u001b[0m\u001b[0miteration1_all\u001b[0m\u001b[1;33m[\u001b[0m\u001b[0miteration1_all\u001b[0m\u001b[1;33m[\u001b[0m\u001b[1;34m'iden'\u001b[0m\u001b[1;33m]\u001b[0m\u001b[1;33m>=\u001b[0m\u001b[1;36m95.0\u001b[0m\u001b[1;33m]\u001b[0m\u001b[1;33m)\u001b[0m\u001b[1;33m&\u001b[0m\u001b[1;33m(\u001b[0m\u001b[0miteration1_all\u001b[0m\u001b[1;33m[\u001b[0m\u001b[0miteration1_all\u001b[0m\u001b[1;33m[\u001b[0m\u001b[1;34m'alen'\u001b[0m\u001b[1;33m]\u001b[0m\u001b[1;33m>=\u001b[0m\u001b[1;36m50\u001b[0m\u001b[1;33m]\u001b[0m\u001b[1;33m)\u001b[0m\u001b[1;33m\u001b[0m\u001b[0m\n\u001b[0m",
      "\u001b[0;32mC:\\Users\\Andriy\\Anaconda2\\lib\\site-packages\\pandas\\core\\ops.pyc\u001b[0m in \u001b[0;36mf\u001b[0;34m(self, other, axis, level, fill_value)\u001b[0m\n\u001b[1;32m   1058\u001b[0m     \u001b[1;32mdef\u001b[0m \u001b[0mf\u001b[0m\u001b[1;33m(\u001b[0m\u001b[0mself\u001b[0m\u001b[1;33m,\u001b[0m \u001b[0mother\u001b[0m\u001b[1;33m,\u001b[0m \u001b[0maxis\u001b[0m\u001b[1;33m=\u001b[0m\u001b[0mdefault_axis\u001b[0m\u001b[1;33m,\u001b[0m \u001b[0mlevel\u001b[0m\u001b[1;33m=\u001b[0m\u001b[0mNone\u001b[0m\u001b[1;33m,\u001b[0m \u001b[0mfill_value\u001b[0m\u001b[1;33m=\u001b[0m\u001b[0mNone\u001b[0m\u001b[1;33m)\u001b[0m\u001b[1;33m:\u001b[0m\u001b[1;33m\u001b[0m\u001b[0m\n\u001b[1;32m   1059\u001b[0m         \u001b[1;32mif\u001b[0m \u001b[0misinstance\u001b[0m\u001b[1;33m(\u001b[0m\u001b[0mother\u001b[0m\u001b[1;33m,\u001b[0m \u001b[0mpd\u001b[0m\u001b[1;33m.\u001b[0m\u001b[0mDataFrame\u001b[0m\u001b[1;33m)\u001b[0m\u001b[1;33m:\u001b[0m  \u001b[1;31m# Another DataFrame\u001b[0m\u001b[1;33m\u001b[0m\u001b[0m\n\u001b[0;32m-> 1060\u001b[0;31m             \u001b[1;32mreturn\u001b[0m \u001b[0mself\u001b[0m\u001b[1;33m.\u001b[0m\u001b[0m_combine_frame\u001b[0m\u001b[1;33m(\u001b[0m\u001b[0mother\u001b[0m\u001b[1;33m,\u001b[0m \u001b[0mna_op\u001b[0m\u001b[1;33m,\u001b[0m \u001b[0mfill_value\u001b[0m\u001b[1;33m,\u001b[0m \u001b[0mlevel\u001b[0m\u001b[1;33m)\u001b[0m\u001b[1;33m\u001b[0m\u001b[0m\n\u001b[0m\u001b[1;32m   1061\u001b[0m         \u001b[1;32melif\u001b[0m \u001b[0misinstance\u001b[0m\u001b[1;33m(\u001b[0m\u001b[0mother\u001b[0m\u001b[1;33m,\u001b[0m \u001b[0mABCSeries\u001b[0m\u001b[1;33m)\u001b[0m\u001b[1;33m:\u001b[0m\u001b[1;33m\u001b[0m\u001b[0m\n\u001b[1;32m   1062\u001b[0m             \u001b[1;32mreturn\u001b[0m \u001b[0mself\u001b[0m\u001b[1;33m.\u001b[0m\u001b[0m_combine_series\u001b[0m\u001b[1;33m(\u001b[0m\u001b[0mother\u001b[0m\u001b[1;33m,\u001b[0m \u001b[0mna_op\u001b[0m\u001b[1;33m,\u001b[0m \u001b[0mfill_value\u001b[0m\u001b[1;33m,\u001b[0m \u001b[0maxis\u001b[0m\u001b[1;33m,\u001b[0m \u001b[0mlevel\u001b[0m\u001b[1;33m)\u001b[0m\u001b[1;33m\u001b[0m\u001b[0m\n",
      "\u001b[0;32mC:\\Users\\Andriy\\Anaconda2\\lib\\site-packages\\pandas\\core\\frame.pyc\u001b[0m in \u001b[0;36m_combine_frame\u001b[0;34m(self, other, func, fill_value, level)\u001b[0m\n\u001b[1;32m   3478\u001b[0m                                                     dtype=r.dtype)\n\u001b[1;32m   3479\u001b[0m \u001b[1;33m\u001b[0m\u001b[0m\n\u001b[0;32m-> 3480\u001b[0;31m                 \u001b[0mresult\u001b[0m \u001b[1;33m=\u001b[0m \u001b[0mdict\u001b[0m\u001b[1;33m(\u001b[0m\u001b[1;33m[\u001b[0m\u001b[1;33m(\u001b[0m\u001b[0mcol\u001b[0m\u001b[1;33m,\u001b[0m \u001b[0mf\u001b[0m\u001b[1;33m(\u001b[0m\u001b[0mcol\u001b[0m\u001b[1;33m)\u001b[0m\u001b[1;33m)\u001b[0m \u001b[1;32mfor\u001b[0m \u001b[0mcol\u001b[0m \u001b[1;32min\u001b[0m \u001b[0mthis\u001b[0m\u001b[1;33m]\u001b[0m\u001b[1;33m)\u001b[0m\u001b[1;33m\u001b[0m\u001b[0m\n\u001b[0m\u001b[1;32m   3481\u001b[0m \u001b[1;33m\u001b[0m\u001b[0m\n\u001b[1;32m   3482\u001b[0m             \u001b[1;31m# non-unique\u001b[0m\u001b[1;33m\u001b[0m\u001b[1;33m\u001b[0m\u001b[0m\n",
      "\u001b[0;32mC:\\Users\\Andriy\\Anaconda2\\lib\\site-packages\\pandas\\core\\frame.pyc\u001b[0m in \u001b[0;36mf\u001b[0;34m(col)\u001b[0m\n\u001b[1;32m   3474\u001b[0m \u001b[1;33m\u001b[0m\u001b[0m\n\u001b[1;32m   3475\u001b[0m                 \u001b[1;32mdef\u001b[0m \u001b[0mf\u001b[0m\u001b[1;33m(\u001b[0m\u001b[0mcol\u001b[0m\u001b[1;33m)\u001b[0m\u001b[1;33m:\u001b[0m\u001b[1;33m\u001b[0m\u001b[0m\n\u001b[0;32m-> 3476\u001b[0;31m                     \u001b[0mr\u001b[0m \u001b[1;33m=\u001b[0m \u001b[0m_arith_op\u001b[0m\u001b[1;33m(\u001b[0m\u001b[0mthis\u001b[0m\u001b[1;33m[\u001b[0m\u001b[0mcol\u001b[0m\u001b[1;33m]\u001b[0m\u001b[1;33m.\u001b[0m\u001b[0mvalues\u001b[0m\u001b[1;33m,\u001b[0m \u001b[0mother\u001b[0m\u001b[1;33m[\u001b[0m\u001b[0mcol\u001b[0m\u001b[1;33m]\u001b[0m\u001b[1;33m.\u001b[0m\u001b[0mvalues\u001b[0m\u001b[1;33m)\u001b[0m\u001b[1;33m\u001b[0m\u001b[0m\n\u001b[0m\u001b[1;32m   3477\u001b[0m                     return self._constructor_sliced(r, index=new_index,\n\u001b[1;32m   3478\u001b[0m                                                     dtype=r.dtype)\n",
      "\u001b[0;32mC:\\Users\\Andriy\\Anaconda2\\lib\\site-packages\\pandas\\core\\frame.pyc\u001b[0m in \u001b[0;36m_arith_op\u001b[0;34m(left, right)\u001b[0m\n\u001b[1;32m   3466\u001b[0m                 \u001b[0mright\u001b[0m\u001b[1;33m[\u001b[0m\u001b[0mright_mask\u001b[0m \u001b[1;33m&\u001b[0m \u001b[0mmask\u001b[0m\u001b[1;33m]\u001b[0m \u001b[1;33m=\u001b[0m \u001b[0mfill_value\u001b[0m\u001b[1;33m\u001b[0m\u001b[0m\n\u001b[1;32m   3467\u001b[0m \u001b[1;33m\u001b[0m\u001b[0m\n\u001b[0;32m-> 3468\u001b[0;31m             \u001b[1;32mreturn\u001b[0m \u001b[0mfunc\u001b[0m\u001b[1;33m(\u001b[0m\u001b[0mleft\u001b[0m\u001b[1;33m,\u001b[0m \u001b[0mright\u001b[0m\u001b[1;33m)\u001b[0m\u001b[1;33m\u001b[0m\u001b[0m\n\u001b[0m\u001b[1;32m   3469\u001b[0m \u001b[1;33m\u001b[0m\u001b[0m\n\u001b[1;32m   3470\u001b[0m         \u001b[1;32mif\u001b[0m \u001b[0mthis\u001b[0m\u001b[1;33m.\u001b[0m\u001b[0m_is_mixed_type\u001b[0m \u001b[1;32mor\u001b[0m \u001b[0mother\u001b[0m\u001b[1;33m.\u001b[0m\u001b[0m_is_mixed_type\u001b[0m\u001b[1;33m:\u001b[0m\u001b[1;33m\u001b[0m\u001b[0m\n",
      "\u001b[0;32mC:\\Users\\Andriy\\Anaconda2\\lib\\site-packages\\pandas\\core\\ops.pyc\u001b[0m in \u001b[0;36mna_op\u001b[0;34m(x, y)\u001b[0m\n\u001b[1;32m    995\u001b[0m                 \u001b[0myrav\u001b[0m \u001b[1;33m=\u001b[0m \u001b[0myrav\u001b[0m\u001b[1;33m[\u001b[0m\u001b[0mmask\u001b[0m\u001b[1;33m]\u001b[0m\u001b[1;33m\u001b[0m\u001b[0m\n\u001b[1;32m    996\u001b[0m                 \u001b[1;32mif\u001b[0m \u001b[0mnp\u001b[0m\u001b[1;33m.\u001b[0m\u001b[0mprod\u001b[0m\u001b[1;33m(\u001b[0m\u001b[0mxrav\u001b[0m\u001b[1;33m.\u001b[0m\u001b[0mshape\u001b[0m\u001b[1;33m)\u001b[0m \u001b[1;32mand\u001b[0m \u001b[0mnp\u001b[0m\u001b[1;33m.\u001b[0m\u001b[0mprod\u001b[0m\u001b[1;33m(\u001b[0m\u001b[0myrav\u001b[0m\u001b[1;33m.\u001b[0m\u001b[0mshape\u001b[0m\u001b[1;33m)\u001b[0m\u001b[1;33m:\u001b[0m\u001b[1;33m\u001b[0m\u001b[0m\n\u001b[0;32m--> 997\u001b[0;31m                     \u001b[0mresult\u001b[0m\u001b[1;33m[\u001b[0m\u001b[0mmask\u001b[0m\u001b[1;33m]\u001b[0m \u001b[1;33m=\u001b[0m \u001b[0mop\u001b[0m\u001b[1;33m(\u001b[0m\u001b[0mxrav\u001b[0m\u001b[1;33m,\u001b[0m \u001b[0myrav\u001b[0m\u001b[1;33m)\u001b[0m\u001b[1;33m\u001b[0m\u001b[0m\n\u001b[0m\u001b[1;32m    998\u001b[0m             \u001b[1;32melif\u001b[0m \u001b[0mhasattr\u001b[0m\u001b[1;33m(\u001b[0m\u001b[0mx\u001b[0m\u001b[1;33m,\u001b[0m \u001b[1;34m'size'\u001b[0m\u001b[1;33m)\u001b[0m\u001b[1;33m:\u001b[0m\u001b[1;33m\u001b[0m\u001b[0m\n\u001b[1;32m    999\u001b[0m                 \u001b[0mresult\u001b[0m \u001b[1;33m=\u001b[0m \u001b[0mnp\u001b[0m\u001b[1;33m.\u001b[0m\u001b[0mempty\u001b[0m\u001b[1;33m(\u001b[0m\u001b[0mx\u001b[0m\u001b[1;33m.\u001b[0m\u001b[0msize\u001b[0m\u001b[1;33m,\u001b[0m \u001b[0mdtype\u001b[0m\u001b[1;33m=\u001b[0m\u001b[0mx\u001b[0m\u001b[1;33m.\u001b[0m\u001b[0mdtype\u001b[0m\u001b[1;33m)\u001b[0m\u001b[1;33m\u001b[0m\u001b[0m\n",
      "\u001b[0;31mTypeError\u001b[0m: unsupported operand type(s) for &: 'str' and 'str'"
     ]
    }
   ],
   "source": [
    "(iteration1_all[iteration1_all['iden']>=95.0])&(iteration1_all[iteration1_all['alen']>=50])"
   ]
  },
  {
   "cell_type": "code",
   "execution_count": null,
   "metadata": {
    "collapsed": true
   },
   "outputs": [],
   "source": []
  },
  {
   "cell_type": "code",
   "execution_count": null,
   "metadata": {
    "collapsed": true
   },
   "outputs": [],
   "source": []
  },
  {
   "cell_type": "code",
   "execution_count": 10,
   "metadata": {
    "collapsed": false
   },
   "outputs": [
    {
     "data": {
      "text/plain": [
       "{'a': 2, 'b': 3, 'c': 5, 'd': 1}"
      ]
     },
     "execution_count": 10,
     "metadata": {},
     "output_type": "execute_result"
    }
   ],
   "source": [
    "dct1"
   ]
  },
  {
   "cell_type": "code",
   "execution_count": null,
   "metadata": {
    "collapsed": true
   },
   "outputs": [],
   "source": []
  },
  {
   "cell_type": "code",
   "execution_count": 5,
   "metadata": {
    "collapsed": false
   },
   "outputs": [
    {
     "name": "stdout",
     "output_type": "stream",
     "text": [
      "\n",
      "\n",
      "Building a new DB, current time: 11/13/2016 23:59:45\n",
      "New DB name:   ../blast_db/combined_ss_WPS2/combined_ss_WPS2\n",
      "New DB title:  combined_ss_WPS2\n",
      "Sequence type: Nucleotide\n",
      "Keep Linkouts: T\n",
      "Keep MBits: T\n",
      "Maximum file size: 1000000000B\n",
      "Adding sequences from FASTA; added 665 sequences in 0.0594308 seconds.\n"
     ]
    }
   ],
   "source": [
    "in_db = '../ss_genomes/all_AP_WPS-2_bacterium.fna'\n",
    "title = 'combined_ss_WPS2'\n",
    "outfile = \"../blast_db/combined_ss_WPS2/combined_ss_WPS2\"\n",
    "\n",
    "!makeblastdb -in {infile} -dbtype nucl -title \"{title}\" -out {outfile} -parse_seqids"
   ]
  },
  {
   "cell_type": "markdown",
   "metadata": {},
   "source": [
    "## Blasting assembled and unasembled contigs"
   ]
  },
  {
   "cell_type": "code",
   "execution_count": 24,
   "metadata": {
    "collapsed": false
   },
   "outputs": [],
   "source": [
    "import time\n",
    "q_fname1 = './../IMG Data/76969.assembled.fna'\n",
    "q_fname2 = './../IMG Data/76969.unassembled_illumina.fna'\n",
    "out_name1= 'all_wps2_q_assembled76969.tab'\n",
    "out_name2= 'all_wps2_q_unasembled76969.tab'\n",
    "database = '../blast_db/combined_ss_WPS2/combined_ss_WPS2'\n",
    "# start =time.time()\n",
    "# !blastn -db {database} -query \"{q_fname1}\" -out {out_name1} -evalue .00001 -outfmt 6 -num_threads 8\n",
    "# elapsed=time.time()-start\n",
    "# print 'exec time: ', elapsed\n",
    "# start =time.time()\n",
    "# !blastn -db {database} -query \"{q_fname2}\" -out {out_name2} -evalue .00001 -outfmt 6 -num_threads 8\n",
    "# elapsed=time.time()-start\n",
    "# print 'exec time: ', elapsed\n"
   ]
  },
  {
   "cell_type": "code",
   "execution_count": null,
   "metadata": {
    "collapsed": true
   },
   "outputs": [],
   "source": []
  },
  {
   "cell_type": "code",
   "execution_count": null,
   "metadata": {
    "collapsed": false
   },
   "outputs": [],
   "source": []
  },
  {
   "cell_type": "code",
   "execution_count": null,
   "metadata": {
    "collapsed": false
   },
   "outputs": [],
   "source": []
  },
  {
   "cell_type": "code",
   "execution_count": null,
   "metadata": {
    "collapsed": true
   },
   "outputs": [],
   "source": []
  },
  {
   "cell_type": "markdown",
   "metadata": {},
   "source": [
    "# Parsing Blast Outputs"
   ]
  },
  {
   "cell_type": "code",
   "execution_count": null,
   "metadata": {
    "collapsed": false
   },
   "outputs": [],
   "source": []
  },
  {
   "cell_type": "code",
   "execution_count": null,
   "metadata": {
    "collapsed": false
   },
   "outputs": [],
   "source": []
  },
  {
   "cell_type": "markdown",
   "metadata": {
    "collapsed": true
   },
   "source": [
    "## Trying pandas instead"
   ]
  },
  {
   "cell_type": "code",
   "execution_count": 127,
   "metadata": {
    "collapsed": true
   },
   "outputs": [],
   "source": [
    "del recruited_mg"
   ]
  },
  {
   "cell_type": "code",
   "execution_count": 128,
   "metadata": {
    "collapsed": false
   },
   "outputs": [],
   "source": [
    "recruited_mg_1 = pandas.read_csv(out_name1 ,sep=\"\\t\", header=None)\n",
    "recruited_mg_1.columns=['quid', 'suid', 'iden', 'alen', 'mism', 'gapo', 'qsta', 'qend', 'ssta', 'send', 'eval', 'bits']\n",
    "\n",
    "recruited_mg_2 = pandas.read_csv(out_name2 ,sep=\"\\t\", header=None)\n",
    "recruited_mg_2.columns=['quid', 'suid', 'iden', 'alen', 'mism', 'gapo', 'qsta', 'qend', 'ssta', 'send', 'eval', 'bits']\n",
    "\n",
    "recruited_mg = [recruited_mg_1, recruited_mg_2]"
   ]
  },
  {
   "cell_type": "code",
   "execution_count": 129,
   "metadata": {
    "collapsed": false
   },
   "outputs": [
    {
     "data": {
      "text/plain": [
       "26364"
      ]
     },
     "execution_count": 129,
     "metadata": {},
     "output_type": "execute_result"
    }
   ],
   "source": [
    "len(recruited_mg[0])"
   ]
  },
  {
   "cell_type": "code",
   "execution_count": 130,
   "metadata": {
    "collapsed": false
   },
   "outputs": [
    {
     "data": {
      "text/plain": [
       "12145"
      ]
     },
     "execution_count": 130,
     "metadata": {},
     "output_type": "execute_result"
    }
   ],
   "source": [
    "len(recruited_mg[1])"
   ]
  },
  {
   "cell_type": "code",
   "execution_count": null,
   "metadata": {
    "collapsed": true
   },
   "outputs": [],
   "source": []
  },
  {
   "cell_type": "code",
   "execution_count": null,
   "metadata": {
    "collapsed": true
   },
   "outputs": [],
   "source": []
  },
  {
   "cell_type": "markdown",
   "metadata": {},
   "source": [
    "# Adding \"Metric\", \"Seq_size\", \"Seq_nt\" fields\n",
    "## indeces of metagenome sequences and the recruited from blast dataframe are placed in lists of the same size: No of -m (metagenome) sequences"
   ]
  },
  {
   "cell_type": "code",
   "execution_count": 100,
   "metadata": {
    "collapsed": true
   },
   "outputs": [],
   "source": [
    "#For linux use symlink\n",
    "metagenome_1 =\"../../pp_metagenome1/IMG Data/76969.assembled.fna\"\n",
    "metagenome_2 =\"../../pp_metagenome1/IMG Data/76969.unassembled_illumina.fna\"\n",
    "#!Beware of closing all records enries eventually\n",
    "all_records_mg_1=parse_contigs_ind(metagenome_1)\n",
    "all_records_mg_2=parse_contigs_ind(metagenome_2)\n",
    "all_records=[all_records_mg_1, all_records_mg_2]"
   ]
  },
  {
   "cell_type": "code",
   "execution_count": 131,
   "metadata": {
    "collapsed": false
   },
   "outputs": [
    {
     "name": "stdout",
     "output_type": "stream",
     "text": [
      "1.90100002289\n"
     ]
    }
   ],
   "source": [
    "\n",
    "\n",
    "\n",
    "\n",
    "\n",
    "start = time.time()\n",
    "#wps2_eval_cutoff['Seq_nt']=retrive_sequence(contig_list, all_records)\n",
    "for i in range(len(recruited_mg)):\n",
    "    #cutoff_contigs[dataframe]=evalue_filter(cutoff_contigs[dataframe])\n",
    "    recruited_mg[i]=unique_scaffold_topEval(recruited_mg[i])\n",
    "    contig_list = recruited_mg[i]['quid'].tolist()\n",
    "    recruited_mg[i]['Seq_nt']=retrive_sequence(contig_list, all_records[i])\n",
    "    recruited_mg[i]['Seq_size']=recruited_mg[i]['Seq_nt'].apply(lambda x: len(x))\n",
    "    recruited_mg[i]['Coverage']=recruited_mg[i]['alen'].apply(lambda x: float(x))/recruited_mg[i]['Seq_size']\n",
    "    recruited_mg[i]['Metric']=recruited_mg[i]['Coverage']*recruited_mg[i]['iden']\n",
    "    recruited_mg[i] = recruited_mg[i][['quid', 'suid', 'iden', 'alen','Coverage','Metric', 'mism', 'gapo', 'qsta', 'qend', 'ssta', 'send', 'eval', 'bits','Seq_size', 'Seq_nt']]\n",
    "    #all_records[i].close()# keep open if multiple iterations\n",
    "\n",
    "    \n",
    "elapsed=time.time()-start\n",
    "print elapsed\n"
   ]
  },
  {
   "cell_type": "code",
   "execution_count": 91,
   "metadata": {
    "collapsed": true
   },
   "outputs": [],
   "source": [
    "# don't close just yet\n",
    "# do after it is not needed\n",
    "for i in range(len(recruited_mg)):\n",
    "    all_records[i].close()"
   ]
  },
  {
   "cell_type": "code",
   "execution_count": 132,
   "metadata": {
    "collapsed": false
   },
   "outputs": [
    {
     "name": "stdout",
     "output_type": "stream",
     "text": [
      "11345\n",
      "6297\n"
     ]
    }
   ],
   "source": [
    "print  len(recruited_mg[0])\n",
    "print len(recruited_mg[1])"
   ]
  },
  {
   "cell_type": "markdown",
   "metadata": {},
   "source": [
    "## Number of unique scaffolds found"
   ]
  },
  {
   "cell_type": "code",
   "execution_count": null,
   "metadata": {
    "collapsed": true
   },
   "outputs": [],
   "source": []
  },
  {
   "cell_type": "code",
   "execution_count": 133,
   "metadata": {
    "collapsed": false
   },
   "outputs": [
    {
     "data": {
      "text/plain": [
       "11345"
      ]
     },
     "execution_count": 133,
     "metadata": {},
     "output_type": "execute_result"
    }
   ],
   "source": [
    "len(set(recruited_mg[0]['quid']))"
   ]
  },
  {
   "cell_type": "code",
   "execution_count": 134,
   "metadata": {
    "collapsed": false
   },
   "outputs": [
    {
     "data": {
      "text/plain": [
       "6297"
      ]
     },
     "execution_count": 134,
     "metadata": {},
     "output_type": "execute_result"
    }
   ],
   "source": [
    "len(set(recruited_mg[1]['quid']))"
   ]
  },
  {
   "cell_type": "markdown",
   "metadata": {},
   "source": [
    "## Evalue sorting"
   ]
  },
  {
   "cell_type": "code",
   "execution_count": 40,
   "metadata": {
    "collapsed": false
   },
   "outputs": [],
   "source": [
    "#result = df.sort(['A', 'B'], ascending=[1, 0])\\\n",
    "\n",
    "# wps2_assembled_sort_eval = wps2_assembled.sort_values(by=['eval'], ascending=False)\n",
    "# wps2_assembled_sort_eval"
   ]
  },
  {
   "cell_type": "markdown",
   "metadata": {},
   "source": [
    "## Filtering out by evalue cutoff"
   ]
  },
  {
   "cell_type": "code",
   "execution_count": 25,
   "metadata": {
    "collapsed": false
   },
   "outputs": [],
   "source": [
    "# eval_cutoff = 1e-20\n",
    "# wps2_assembled_filtered = wps2_assembled_sort_eval[wps2_assembled_sort_eval['eval']<eval_cutoff]\n",
    "# wps2_assembled_filtered"
   ]
  },
  {
   "cell_type": "markdown",
   "metadata": {},
   "source": [
    "## Efect of evalue on # of unique scaffolds found"
   ]
  },
  {
   "cell_type": "code",
   "execution_count": 26,
   "metadata": {
    "collapsed": false
   },
   "outputs": [],
   "source": [
    "# #Doing a \n",
    "# unique_scaffolds = list()\n",
    "# eval_cutoffs = [1e-10, 1e-20, 1e-30, 1e-40, 1e-50, 1e-60, 1e-70, 1e-80, 1e-90, 1e-100, 1e-110, 1e-120, 1e-130, 1e-140, 1e-150]\n",
    "# #for e_val in eval_cutoffs:\n",
    "# for e_val in eval_cutoffs:\n",
    "#     wps2_assembled_filtered = wps2_assembled_sort_eval[wps2_assembled_sort_eval['eval']<e_val]\n",
    "#     unique_scaffolds.append(len(set(wps2_assembled_filtered['quid'])))\n"
   ]
  },
  {
   "cell_type": "code",
   "execution_count": null,
   "metadata": {
    "collapsed": false
   },
   "outputs": [],
   "source": []
  },
  {
   "cell_type": "code",
   "execution_count": null,
   "metadata": {
    "collapsed": false
   },
   "outputs": [],
   "source": []
  },
  {
   "cell_type": "code",
   "execution_count": 27,
   "metadata": {
    "collapsed": false
   },
   "outputs": [],
   "source": [
    "# print eval_cutoffs\n",
    "# print unique_scaffolds\n"
   ]
  },
  {
   "cell_type": "code",
   "execution_count": 28,
   "metadata": {
    "collapsed": false
   },
   "outputs": [],
   "source": [
    "# import matplotlib\n",
    "# import matplotlib.pyplot as plt\n",
    "# %matplotlib inline  \n",
    "# #plt.semilogy(t, np.exp(-t/5.0))\n",
    "# plt.plot()\n",
    "# plt.semilogx(eval_cutoffs, unique_scaffolds, marker = 'o', basex=10)\n",
    "# plt.title('Number of unique scaffolds as a function of BLAST e-Value')\n",
    "# plt.xticks(eval_cutoffs)\n",
    "# plt.ylabel('No. of unique scaffolds')\n",
    "# plt.xlabel('BLAST e-Value')\n",
    "# plt.grid(True)\n",
    "# plt.ylim((0,12000))\n",
    "# plt.show()"
   ]
  },
  {
   "cell_type": "markdown",
   "metadata": {
    "collapsed": true
   },
   "source": [
    "# Doing some stats on the recruited data"
   ]
  },
  {
   "cell_type": "code",
   "execution_count": 41,
   "metadata": {
    "collapsed": false
   },
   "outputs": [],
   "source": [
    "\n",
    "#assembled\n",
    "\n",
    "ranges = range(5, 210, 15)\n",
    "unique_scaffolds = list()\n",
    "eval_ranges = [10**(-x) for x in ranges]\n",
    "assembled_filtered_lst = list()\n",
    "#for e_val in eval_cutoffs:\n",
    "for i in range(len(eval_ranges)):\n",
    "    assembled_filtered = recruited_mg[0][recruited_mg[0]['eval']<eval_ranges[i]]\n",
    "    assembled_filtered_lst.append(assembled_filtered)\n",
    "    #unique_scaffolds.append(len(set(wps2_assembled_filtered['quid'])))\n",
    "    unique_scaffolds.append(len(set(assembled_filtered_lst[i]['quid'])))"
   ]
  },
  {
   "cell_type": "code",
   "execution_count": 42,
   "metadata": {
    "collapsed": false
   },
   "outputs": [
    {
     "name": "stdout",
     "output_type": "stream",
     "text": [
      "[5, 20, 35, 50, 65, 80, 95, 110, 125, 140, 155, 170, 185, 200]\n",
      "[1e-05, 1e-20, 1e-35, 1e-50, 1e-65, 1e-80, 1e-95, 1e-110, 1e-125, 1e-140, 1e-155, 1e-170, 1e-185, 1e-200]\n",
      "[11341, 9594, 8348, 7455, 6718, 6131, 5669, 5281, 4927, 4592, 4236, 3938, 3724, 3724]\n"
     ]
    }
   ],
   "source": [
    "print ranges\n",
    "print eval_ranges\n",
    "print unique_scaffolds"
   ]
  },
  {
   "cell_type": "code",
   "execution_count": null,
   "metadata": {
    "collapsed": false
   },
   "outputs": [],
   "source": []
  },
  {
   "cell_type": "code",
   "execution_count": 43,
   "metadata": {
    "collapsed": false
   },
   "outputs": [
    {
     "data": {
      "image/png": "[encoded data removed]",
      "text/plain": [
       "<matplotlib.figure.Figure at 0x5437feb8>"
      ]
     },
     "metadata": {},
     "output_type": "display_data"
    }
   ],
   "source": [
    "import matplotlib\n",
    "import matplotlib.pyplot as plt\n",
    "%matplotlib inline  \n",
    "\n",
    "import matplotlib.pylab as pylab\n",
    "params = {'legend.fontsize': 'x-large',\n",
    "          'figure.figsize': (15, 5),\n",
    "         'axes.labelsize': 'x-large',\n",
    "         'axes.titlesize':'x-large',\n",
    "         'xtick.labelsize':'x-large',\n",
    "         'ytick.labelsize':'x-large'}\n",
    "pylab.rcParams.update(params)\n",
    "\n",
    "#plt.semilogy(t, np.exp(-t/5.0))\n",
    "plt.plot()\n",
    "plt.semilogx(eval_ranges, unique_scaffolds, marker = 'o', basex=10)\n",
    "plt.title('Number of unique assembled scaffolds as a function of BLAST e-Value', fontsize=25)\n",
    "plt.xticks(eval_ranges, fontsize=18)\n",
    "plt.yticks(fontsize=18)\n",
    "plt.ylabel('No. of unique scaffolds', fontsize=20)\n",
    "plt.xlabel('BLAST e-Value', fontsize=20)\n",
    "plt.grid(True)\n",
    "plt.ylim((0,12000))\n",
    "fig = matplotlib.pyplot.gcf()\n",
    "fig.set_size_inches(18.5, 10.5)\n",
    "fig.savefig('assembled_fn_evalue.pdf', dpi=300)\n",
    "plt.show()"
   ]
  },
  {
   "cell_type": "markdown",
   "metadata": {},
   "source": [
    "## Retrieving sequences from dataframe list"
   ]
  },
  {
   "cell_type": "code",
   "execution_count": 44,
   "metadata": {
    "collapsed": false
   },
   "outputs": [],
   "source": [
    "# dataframe_names= [str(x)+\"_cutoff_contigs\" for x in eval_ranges]\n",
    "# dataframe_names"
   ]
  },
  {
   "cell_type": "code",
   "execution_count": null,
   "metadata": {
    "collapsed": true
   },
   "outputs": [],
   "source": []
  },
  {
   "cell_type": "code",
   "execution_count": 33,
   "metadata": {
    "collapsed": false
   },
   "outputs": [],
   "source": [
    "# # cutoff = eval_ranges[3]\n",
    "# # cutoff_contigs = wps2_assembled_filtered_lst[3]\n",
    "# cutoff_contigs={}\n",
    "# # #cutoff_contigs\n",
    "# for i in range(len(eval_ranges)):\n",
    "#     cutoff_contigs[dataframe_names[i]]=wps2_assembled_filtered_lst[i]"
   ]
  },
  {
   "cell_type": "code",
   "execution_count": 34,
   "metadata": {
    "collapsed": false
   },
   "outputs": [
    {
     "data": {
      "text/plain": [
       "15813"
      ]
     },
     "execution_count": 34,
     "metadata": {},
     "output_type": "execute_result"
    }
   ],
   "source": [
    "len(cutoff_contigs['1e-50_cutoff_contigs'])"
   ]
  },
  {
   "cell_type": "code",
   "execution_count": 35,
   "metadata": {
    "collapsed": false
   },
   "outputs": [
    {
     "name": "stdout",
     "output_type": "stream",
     "text": [
      "['quid', 'suid', 'iden', 'alen', 'mism', 'gapo', 'qsta', 'qend', 'ssta', 'send', 'eval', 'bits']\n"
     ]
    }
   ],
   "source": [
    "print list(cutoff_contigs['1e-50_cutoff_contigs'].columns.values)"
   ]
  },
  {
   "cell_type": "markdown",
   "metadata": {
    "collapsed": true
   },
   "source": [
    "## Adding Seq_nt and Size entries"
   ]
  },
  {
   "cell_type": "code",
   "execution_count": 45,
   "metadata": {
    "collapsed": false
   },
   "outputs": [],
   "source": [
    "\n",
    "# from Bio import SeqIO\n",
    "# assembled_contigs = \"../IMG Data/76969.assembled.fna\"\n",
    "# handle = open(assembled_contigs, \"rU\")\n",
    "# record_dict = SeqIO.to_dict(SeqIO.parse(handle,\"fasta\"))\n",
    "# handle.close()\n",
    "# rec = record_dict[\"Ga0073928_11111377\"]\n",
    "# rec"
   ]
  },
  {
   "cell_type": "code",
   "execution_count": null,
   "metadata": {
    "collapsed": true
   },
   "outputs": [],
   "source": []
  },
  {
   "cell_type": "markdown",
   "metadata": {},
   "source": [
    "## Indexing approach\n",
    "# Less memory intensive, close index after it's done: record_dict.close()\n"
   ]
  },
  {
   "cell_type": "code",
   "execution_count": 47,
   "metadata": {
    "collapsed": false
   },
   "outputs": [],
   "source": [
    "# start = time.time()\n",
    "# all_records = parse_contigs_ind(assembled_contigs)\n",
    "# print time.time()-start\n"
   ]
  },
  {
   "cell_type": "code",
   "execution_count": 48,
   "metadata": {
    "collapsed": false
   },
   "outputs": [],
   "source": [
    "# all_records.close()"
   ]
  },
  {
   "cell_type": "code",
   "execution_count": 50,
   "metadata": {
    "collapsed": false
   },
   "outputs": [],
   "source": [
    "# all_records['Ga0073928_10022750']"
   ]
  },
  {
   "cell_type": "code",
   "execution_count": null,
   "metadata": {
    "collapsed": false
   },
   "outputs": [],
   "source": []
  },
  {
   "cell_type": "code",
   "execution_count": null,
   "metadata": {
    "collapsed": false
   },
   "outputs": [],
   "source": []
  },
  {
   "cell_type": "code",
   "execution_count": 93,
   "metadata": {
    "collapsed": true
   },
   "outputs": [],
   "source": []
  },
  {
   "cell_type": "code",
   "execution_count": 49,
   "metadata": {
    "collapsed": false
   },
   "outputs": [],
   "source": [
    "# all_records=parse_contigs_ind(assembled_contigs)\n",
    "# start = time.time()\n",
    "# #wps2_eval_cutoff['Seq_nt']=retrive_sequence(contig_list, all_records)\n",
    "# for dataframe in cutoff_contigs:\n",
    "#     #cutoff_contigs[dataframe]=evalue_filter(cutoff_contigs[dataframe])\n",
    "#     contig_list = cutoff_contigs[dataframe]['quid'].tolist()\n",
    "#     cutoff_contigs[dataframe]['Seq_nt']=retrive_sequence(contig_list, all_records)\n",
    "#     cutoff_contigs[dataframe]['Seq_size']=cutoff_contigs[dataframe]['Seq_nt'].apply(lambda x: len(x))\n",
    "#     cutoff_contigs[dataframe]['Coverage']=cutoff_contigs[dataframe]['alen'].apply(lambda x: float(x))/cutoff_contigs[dataframe]['Seq_size']\n",
    "#     cutoff_contigs[dataframe]['Metric']=cutoff_contigs[dataframe]['Coverage']*cutoff_contigs[dataframe]['iden']\n",
    "#     cutoff_contigs[dataframe] = cutoff_contigs[dataframe][['quid', 'suid', 'iden', 'alen','Coverage','Metric', 'mism', 'gapo', 'qsta', 'qend', 'ssta', 'send', 'eval', 'bits','Seq_size', 'Seq_nt']]\n",
    "# elapsed=time.time()-start\n",
    "# print elapsed\n",
    "# all_records.close()"
   ]
  },
  {
   "cell_type": "code",
   "execution_count": 51,
   "metadata": {
    "collapsed": false
   },
   "outputs": [],
   "source": [
    "# cutoff_contigs['1e-50_cutoff_contigs']"
   ]
  },
  {
   "cell_type": "code",
   "execution_count": 52,
   "metadata": {
    "collapsed": false
   },
   "outputs": [],
   "source": [
    "# cutoff_contigs['1e-50_cutoff_contigs'].loc[7444]['Seq_nt']"
   ]
  },
  {
   "cell_type": "code",
   "execution_count": 53,
   "metadata": {
    "collapsed": false
   },
   "outputs": [],
   "source": [
    "# !cutoff_contigs['1e-50_cutoff_contigs'].loc[7444]['Seq_nt'][:30] \"../IMG Data/76969.assembled.fna\""
   ]
  },
  {
   "cell_type": "code",
   "execution_count": 54,
   "metadata": {
    "collapsed": false
   },
   "outputs": [],
   "source": [
    "# #verification by manual searching and extracting the sequence\n",
    "# len(''.join(\"\"\"CCTGTTAGTGCTTCGGCGCCCGATACAATCTCGAGCAGCTCCTTGGTTATCGCGGCTTGA\n",
    "# CGCGCGTTGTTCATAGCGATCGTCAGTTCATCGATCAATTTGCCGGCGTTTTCGGTGGCG\n",
    "# TTGTTCATTGCAAGCAGCTGAGCTGCGTAGAATGACGCATCGGTCTCCAGCATCGCCGAA\n",
    "# AATAGTGTGAACTCCAGATATTTCGGCAAGAGTTTTGAAAGTACGAACTCCGGCGAAGGC\n",
    "# ACGATTTCGACCGCGCCGCGCGGACCCGTGGATGGAGCCGCCGCGGTTTCATGCTCGATC\n",
    "# GGGACAAGCTGCCGTAGCTCGGGTCGCTGCACCATCATCGAGACATGTTTGGACGAAACG\n",
    "# AGGATGATGTCGCCGATCTCTCCGGCGGTGAAATCGGCGGTGACGCTCTGCGCGAGTTCG\n",
    "# TGCGCGGTTTGCAGTTTGGACGGCGCACTCAGCGGCCAGCCCGGCCGATCTCCTAGGCCC\n",
    "# CAGCGGCGCACAGCGTTGCGAGCTTTTATGCCGACGGTGTAAAAACGCGCGTCCGCGTGC\n",
    "# TGACGCCAGAAGCGCTCGGCCTCGCGAATGACGTTGGAGTTGAATGCGCCGGCCAG\"\"\".split()))"
   ]
  },
  {
   "cell_type": "code",
   "execution_count": 55,
   "metadata": {
    "collapsed": false
   },
   "outputs": [],
   "source": [
    "# len(cutoff_contigs['1e-50_cutoff_contigs'].loc[7444]['Seq_nt'])"
   ]
  },
  {
   "cell_type": "code",
   "execution_count": 125,
   "metadata": {
    "collapsed": false
   },
   "outputs": [
    {
     "data": {
      "text/html": [
       "<div>\n",
       "<table border=\"1\" class=\"dataframe\">\n",
       "  <thead>\n",
       "    <tr style=\"text-align: right;\">\n",
       "      <th></th>\n",
       "      <th>quid</th>\n",
       "      <th>suid</th>\n",
       "      <th>iden</th>\n",
       "      <th>alen</th>\n",
       "      <th>Coverage</th>\n",
       "      <th>Metric</th>\n",
       "      <th>mism</th>\n",
       "      <th>gapo</th>\n",
       "      <th>qsta</th>\n",
       "      <th>qend</th>\n",
       "      <th>ssta</th>\n",
       "      <th>send</th>\n",
       "      <th>eval</th>\n",
       "      <th>bits</th>\n",
       "      <th>Seq_size</th>\n",
       "      <th>Seq_nt</th>\n",
       "    </tr>\n",
       "  </thead>\n",
       "  <tbody>\n",
       "    <tr>\n",
       "      <th>0</th>\n",
       "      <td>Ga0073928_10000001</td>\n",
       "      <td>2616646159</td>\n",
       "      <td>73.97</td>\n",
       "      <td>438</td>\n",
       "      <td>0.000371</td>\n",
       "      <td>0.027420</td>\n",
       "      <td>100</td>\n",
       "      <td>13</td>\n",
       "      <td>725591</td>\n",
       "      <td>726021</td>\n",
       "      <td>10816</td>\n",
       "      <td>11246</td>\n",
       "      <td>1.000000e-37</td>\n",
       "      <td>165.0</td>\n",
       "      <td>1181591</td>\n",
       "      <td>ACAGTACCTTCGTGATCGCCGCAGTCAGCGTCGTCTTGCCGTGGTC...</td>\n",
       "    </tr>\n",
       "    <tr>\n",
       "      <th>1</th>\n",
       "      <td>Ga0073928_10000002</td>\n",
       "      <td>2616653076</td>\n",
       "      <td>74.33</td>\n",
       "      <td>1005</td>\n",
       "      <td>0.001313</td>\n",
       "      <td>0.097569</td>\n",
       "      <td>233</td>\n",
       "      <td>23</td>\n",
       "      <td>110425</td>\n",
       "      <td>111418</td>\n",
       "      <td>475</td>\n",
       "      <td>1465</td>\n",
       "      <td>1.000000e-109</td>\n",
       "      <td>403.0</td>\n",
       "      <td>765630</td>\n",
       "      <td>CCAGTTCAATCCCGGTGCCCATCTGCTGGGCCAGCGCTTCGGCTGC...</td>\n",
       "    </tr>\n",
       "    <tr>\n",
       "      <th>2</th>\n",
       "      <td>Ga0073928_10000002</td>\n",
       "      <td>2617273876</td>\n",
       "      <td>74.33</td>\n",
       "      <td>1005</td>\n",
       "      <td>0.001313</td>\n",
       "      <td>0.097569</td>\n",
       "      <td>233</td>\n",
       "      <td>23</td>\n",
       "      <td>110425</td>\n",
       "      <td>111418</td>\n",
       "      <td>34447</td>\n",
       "      <td>35437</td>\n",
       "      <td>1.000000e-109</td>\n",
       "      <td>403.0</td>\n",
       "      <td>765630</td>\n",
       "      <td>CCAGTTCAATCCCGGTGCCCATCTGCTGGGCCAGCGCTTCGGCTGC...</td>\n",
       "    </tr>\n",
       "    <tr>\n",
       "      <th>3</th>\n",
       "      <td>Ga0073928_10000003</td>\n",
       "      <td>2616646130</td>\n",
       "      <td>74.74</td>\n",
       "      <td>1607</td>\n",
       "      <td>0.002156</td>\n",
       "      <td>0.161123</td>\n",
       "      <td>376</td>\n",
       "      <td>29</td>\n",
       "      <td>217242</td>\n",
       "      <td>218833</td>\n",
       "      <td>2554</td>\n",
       "      <td>963</td>\n",
       "      <td>0.000000e+00</td>\n",
       "      <td>691.0</td>\n",
       "      <td>745438</td>\n",
       "      <td>GAAGGGCGGGTACCACGAACGTCTGCGCCTGCGACGCTACGCTACC...</td>\n",
       "    </tr>\n",
       "    <tr>\n",
       "      <th>4</th>\n",
       "      <td>Ga0073928_10000004</td>\n",
       "      <td>2616646178</td>\n",
       "      <td>88.33</td>\n",
       "      <td>60</td>\n",
       "      <td>0.000083</td>\n",
       "      <td>0.007306</td>\n",
       "      <td>7</td>\n",
       "      <td>0</td>\n",
       "      <td>56696</td>\n",
       "      <td>56755</td>\n",
       "      <td>3397</td>\n",
       "      <td>3456</td>\n",
       "      <td>4.000000e-10</td>\n",
       "      <td>73.1</td>\n",
       "      <td>725374</td>\n",
       "      <td>CGGATTGTGTTTCGACAACACCTTGGTGATGGCCGCCGTCAACGTG...</td>\n",
       "    </tr>\n",
       "    <tr>\n",
       "      <th>5</th>\n",
       "      <td>Ga0073928_10000004</td>\n",
       "      <td>2616653415</td>\n",
       "      <td>92.86</td>\n",
       "      <td>42</td>\n",
       "      <td>0.000058</td>\n",
       "      <td>0.005377</td>\n",
       "      <td>3</td>\n",
       "      <td>0</td>\n",
       "      <td>231872</td>\n",
       "      <td>231913</td>\n",
       "      <td>1625</td>\n",
       "      <td>1666</td>\n",
       "      <td>9.000000e-07</td>\n",
       "      <td>62.1</td>\n",
       "      <td>725374</td>\n",
       "      <td>CGGATTGTGTTTCGACAACACCTTGGTGATGGCCGCCGTCAACGTG...</td>\n",
       "    </tr>\n",
       "    <tr>\n",
       "      <th>6</th>\n",
       "      <td>Ga0073928_10000005</td>\n",
       "      <td>2616646216</td>\n",
       "      <td>79.71</td>\n",
       "      <td>971</td>\n",
       "      <td>0.001377</td>\n",
       "      <td>0.109752</td>\n",
       "      <td>191</td>\n",
       "      <td>5</td>\n",
       "      <td>102846</td>\n",
       "      <td>103813</td>\n",
       "      <td>6097</td>\n",
       "      <td>7064</td>\n",
       "      <td>0.000000e+00</td>\n",
       "      <td>697.0</td>\n",
       "      <td>705209</td>\n",
       "      <td>CATCTCCAACCCCCACGCCGAGCGCAACGTCATCGCCTACGCCAAC...</td>\n",
       "    </tr>\n",
       "    <tr>\n",
       "      <th>7</th>\n",
       "      <td>Ga0073928_10000005</td>\n",
       "      <td>2616646158</td>\n",
       "      <td>79.20</td>\n",
       "      <td>971</td>\n",
       "      <td>0.001377</td>\n",
       "      <td>0.109050</td>\n",
       "      <td>180</td>\n",
       "      <td>16</td>\n",
       "      <td>102846</td>\n",
       "      <td>103805</td>\n",
       "      <td>4551</td>\n",
       "      <td>3592</td>\n",
       "      <td>0.000000e+00</td>\n",
       "      <td>654.0</td>\n",
       "      <td>705209</td>\n",
       "      <td>CATCTCCAACCCCCACGCCGAGCGCAACGTCATCGCCTACGCCAAC...</td>\n",
       "    </tr>\n",
       "    <tr>\n",
       "      <th>8</th>\n",
       "      <td>Ga0073928_10000005</td>\n",
       "      <td>2616653440</td>\n",
       "      <td>73.68</td>\n",
       "      <td>1083</td>\n",
       "      <td>0.001536</td>\n",
       "      <td>0.113151</td>\n",
       "      <td>249</td>\n",
       "      <td>33</td>\n",
       "      <td>615295</td>\n",
       "      <td>616359</td>\n",
       "      <td>5839</td>\n",
       "      <td>6903</td>\n",
       "      <td>3.000000e-105</td>\n",
       "      <td>388.0</td>\n",
       "      <td>705209</td>\n",
       "      <td>CATCTCCAACCCCCACGCCGAGCGCAACGTCATCGCCTACGCCAAC...</td>\n",
       "    </tr>\n",
       "    <tr>\n",
       "      <th>9</th>\n",
       "      <td>Ga0073928_10000005</td>\n",
       "      <td>2616646201</td>\n",
       "      <td>74.32</td>\n",
       "      <td>767</td>\n",
       "      <td>0.001088</td>\n",
       "      <td>0.080832</td>\n",
       "      <td>163</td>\n",
       "      <td>29</td>\n",
       "      <td>474629</td>\n",
       "      <td>475375</td>\n",
       "      <td>15357</td>\n",
       "      <td>14605</td>\n",
       "      <td>8.000000e-77</td>\n",
       "      <td>294.0</td>\n",
       "      <td>705209</td>\n",
       "      <td>CATCTCCAACCCCCACGCCGAGCGCAACGTCATCGCCTACGCCAAC...</td>\n",
       "    </tr>\n",
       "    <tr>\n",
       "      <th>10</th>\n",
       "      <td>Ga0073928_10000005</td>\n",
       "      <td>2617273795</td>\n",
       "      <td>73.04</td>\n",
       "      <td>805</td>\n",
       "      <td>0.001142</td>\n",
       "      <td>0.083376</td>\n",
       "      <td>179</td>\n",
       "      <td>32</td>\n",
       "      <td>474629</td>\n",
       "      <td>475411</td>\n",
       "      <td>2096</td>\n",
       "      <td>1308</td>\n",
       "      <td>2.000000e-63</td>\n",
       "      <td>250.0</td>\n",
       "      <td>705209</td>\n",
       "      <td>CATCTCCAACCCCCACGCCGAGCGCAACGTCATCGCCTACGCCAAC...</td>\n",
       "    </tr>\n",
       "    <tr>\n",
       "      <th>11</th>\n",
       "      <td>Ga0073928_10000005</td>\n",
       "      <td>2616653450</td>\n",
       "      <td>73.63</td>\n",
       "      <td>383</td>\n",
       "      <td>0.000543</td>\n",
       "      <td>0.039989</td>\n",
       "      <td>89</td>\n",
       "      <td>9</td>\n",
       "      <td>89657</td>\n",
       "      <td>90033</td>\n",
       "      <td>20975</td>\n",
       "      <td>21351</td>\n",
       "      <td>1.000000e-29</td>\n",
       "      <td>137.0</td>\n",
       "      <td>705209</td>\n",
       "      <td>CATCTCCAACCCCCACGCCGAGCGCAACGTCATCGCCTACGCCAAC...</td>\n",
       "    </tr>\n",
       "    <tr>\n",
       "      <th>12</th>\n",
       "      <td>Ga0073928_10000005</td>\n",
       "      <td>2616653019</td>\n",
       "      <td>72.37</td>\n",
       "      <td>456</td>\n",
       "      <td>0.000647</td>\n",
       "      <td>0.046796</td>\n",
       "      <td>110</td>\n",
       "      <td>15</td>\n",
       "      <td>474629</td>\n",
       "      <td>475073</td>\n",
       "      <td>451</td>\n",
       "      <td>1</td>\n",
       "      <td>2.000000e-27</td>\n",
       "      <td>130.0</td>\n",
       "      <td>705209</td>\n",
       "      <td>CATCTCCAACCCCCACGCCGAGCGCAACGTCATCGCCTACGCCAAC...</td>\n",
       "    </tr>\n",
       "    <tr>\n",
       "      <th>13</th>\n",
       "      <td>Ga0073928_10000005</td>\n",
       "      <td>2616652971</td>\n",
       "      <td>85.00</td>\n",
       "      <td>120</td>\n",
       "      <td>0.000170</td>\n",
       "      <td>0.014464</td>\n",
       "      <td>18</td>\n",
       "      <td>0</td>\n",
       "      <td>504155</td>\n",
       "      <td>504274</td>\n",
       "      <td>8289</td>\n",
       "      <td>8170</td>\n",
       "      <td>4.000000e-25</td>\n",
       "      <td>122.0</td>\n",
       "      <td>705209</td>\n",
       "      <td>CATCTCCAACCCCCACGCCGAGCGCAACGTCATCGCCTACGCCAAC...</td>\n",
       "    </tr>\n",
       "    <tr>\n",
       "      <th>14</th>\n",
       "      <td>Ga0073928_10000005</td>\n",
       "      <td>2616652971</td>\n",
       "      <td>73.65</td>\n",
       "      <td>277</td>\n",
       "      <td>0.000393</td>\n",
       "      <td>0.028929</td>\n",
       "      <td>71</td>\n",
       "      <td>2</td>\n",
       "      <td>140403</td>\n",
       "      <td>140678</td>\n",
       "      <td>7917</td>\n",
       "      <td>8192</td>\n",
       "      <td>4.000000e-20</td>\n",
       "      <td>106.0</td>\n",
       "      <td>705209</td>\n",
       "      <td>CATCTCCAACCCCCACGCCGAGCGCAACGTCATCGCCTACGCCAAC...</td>\n",
       "    </tr>\n",
       "    <tr>\n",
       "      <th>15</th>\n",
       "      <td>Ga0073928_10000005</td>\n",
       "      <td>2616646137</td>\n",
       "      <td>89.19</td>\n",
       "      <td>74</td>\n",
       "      <td>0.000105</td>\n",
       "      <td>0.009359</td>\n",
       "      <td>8</td>\n",
       "      <td>0</td>\n",
       "      <td>583008</td>\n",
       "      <td>583081</td>\n",
       "      <td>5043</td>\n",
       "      <td>5116</td>\n",
       "      <td>3.000000e-16</td>\n",
       "      <td>93.5</td>\n",
       "      <td>705209</td>\n",
       "      <td>CATCTCCAACCCCCACGCCGAGCGCAACGTCATCGCCTACGCCAAC...</td>\n",
       "    </tr>\n",
       "    <tr>\n",
       "      <th>16</th>\n",
       "      <td>Ga0073928_10000005</td>\n",
       "      <td>2616646196</td>\n",
       "      <td>71.56</td>\n",
       "      <td>327</td>\n",
       "      <td>0.000464</td>\n",
       "      <td>0.033182</td>\n",
       "      <td>91</td>\n",
       "      <td>2</td>\n",
       "      <td>140404</td>\n",
       "      <td>140729</td>\n",
       "      <td>791</td>\n",
       "      <td>1116</td>\n",
       "      <td>1.000000e-14</td>\n",
       "      <td>87.9</td>\n",
       "      <td>705209</td>\n",
       "      <td>CATCTCCAACCCCCACGCCGAGCGCAACGTCATCGCCTACGCCAAC...</td>\n",
       "    </tr>\n",
       "    <tr>\n",
       "      <th>17</th>\n",
       "      <td>Ga0073928_10000005</td>\n",
       "      <td>2616653050</td>\n",
       "      <td>85.14</td>\n",
       "      <td>74</td>\n",
       "      <td>0.000105</td>\n",
       "      <td>0.008934</td>\n",
       "      <td>11</td>\n",
       "      <td>0</td>\n",
       "      <td>583008</td>\n",
       "      <td>583081</td>\n",
       "      <td>3492</td>\n",
       "      <td>3565</td>\n",
       "      <td>3.000000e-11</td>\n",
       "      <td>76.8</td>\n",
       "      <td>705209</td>\n",
       "      <td>CATCTCCAACCCCCACGCCGAGCGCAACGTCATCGCCTACGCCAAC...</td>\n",
       "    </tr>\n",
       "    <tr>\n",
       "      <th>18</th>\n",
       "      <td>Ga0073928_10000005</td>\n",
       "      <td>2616653358</td>\n",
       "      <td>85.14</td>\n",
       "      <td>74</td>\n",
       "      <td>0.000105</td>\n",
       "      <td>0.008934</td>\n",
       "      <td>11</td>\n",
       "      <td>0</td>\n",
       "      <td>583008</td>\n",
       "      <td>583081</td>\n",
       "      <td>6475</td>\n",
       "      <td>6402</td>\n",
       "      <td>3.000000e-11</td>\n",
       "      <td>76.8</td>\n",
       "      <td>705209</td>\n",
       "      <td>CATCTCCAACCCCCACGCCGAGCGCAACGTCATCGCCTACGCCAAC...</td>\n",
       "    </tr>\n",
       "    <tr>\n",
       "      <th>19</th>\n",
       "      <td>Ga0073928_10000006</td>\n",
       "      <td>2616653426</td>\n",
       "      <td>75.29</td>\n",
       "      <td>255</td>\n",
       "      <td>0.000384</td>\n",
       "      <td>0.028892</td>\n",
       "      <td>59</td>\n",
       "      <td>4</td>\n",
       "      <td>261289</td>\n",
       "      <td>261541</td>\n",
       "      <td>8757</td>\n",
       "      <td>8505</td>\n",
       "      <td>5.000000e-24</td>\n",
       "      <td>119.0</td>\n",
       "      <td>664508</td>\n",
       "      <td>ATCAGGTAGCGTAGCGTCGCAGGCGCAGACGTTCGTGGTACCCGCC...</td>\n",
       "    </tr>\n",
       "    <tr>\n",
       "      <th>20</th>\n",
       "      <td>Ga0073928_10000006</td>\n",
       "      <td>2616653389</td>\n",
       "      <td>77.69</td>\n",
       "      <td>130</td>\n",
       "      <td>0.000196</td>\n",
       "      <td>0.015199</td>\n",
       "      <td>29</td>\n",
       "      <td>0</td>\n",
       "      <td>9617</td>\n",
       "      <td>9746</td>\n",
       "      <td>4874</td>\n",
       "      <td>4745</td>\n",
       "      <td>2.000000e-12</td>\n",
       "      <td>80.5</td>\n",
       "      <td>664508</td>\n",
       "      <td>ATCAGGTAGCGTAGCGTCGCAGGCGCAGACGTTCGTGGTACCCGCC...</td>\n",
       "    </tr>\n",
       "    <tr>\n",
       "      <th>21</th>\n",
       "      <td>Ga0073928_10000008</td>\n",
       "      <td>2616646197</td>\n",
       "      <td>94.74</td>\n",
       "      <td>57</td>\n",
       "      <td>0.000099</td>\n",
       "      <td>0.009368</td>\n",
       "      <td>3</td>\n",
       "      <td>0</td>\n",
       "      <td>322028</td>\n",
       "      <td>322084</td>\n",
       "      <td>1727</td>\n",
       "      <td>1671</td>\n",
       "      <td>3.000000e-15</td>\n",
       "      <td>89.8</td>\n",
       "      <td>576479</td>\n",
       "      <td>CCAGAGCGCAGCGTTCGGCACGCCGATGAAGTAGAGTCCGATCGCA...</td>\n",
       "    </tr>\n",
       "    <tr>\n",
       "      <th>22</th>\n",
       "      <td>Ga0073928_10000011</td>\n",
       "      <td>2616652943</td>\n",
       "      <td>76.17</td>\n",
       "      <td>1385</td>\n",
       "      <td>0.002671</td>\n",
       "      <td>0.203417</td>\n",
       "      <td>312</td>\n",
       "      <td>17</td>\n",
       "      <td>297567</td>\n",
       "      <td>298942</td>\n",
       "      <td>1973</td>\n",
       "      <td>598</td>\n",
       "      <td>0.000000e+00</td>\n",
       "      <td>713.0</td>\n",
       "      <td>518616</td>\n",
       "      <td>CAGCAGCTCGCTTTGGCATCACACCTCAGCTCATCGATCAATCCCT...</td>\n",
       "    </tr>\n",
       "    <tr>\n",
       "      <th>23</th>\n",
       "      <td>Ga0073928_10000011</td>\n",
       "      <td>2616653384</td>\n",
       "      <td>76.17</td>\n",
       "      <td>1385</td>\n",
       "      <td>0.002671</td>\n",
       "      <td>0.203417</td>\n",
       "      <td>312</td>\n",
       "      <td>17</td>\n",
       "      <td>297567</td>\n",
       "      <td>298942</td>\n",
       "      <td>9441</td>\n",
       "      <td>10816</td>\n",
       "      <td>0.000000e+00</td>\n",
       "      <td>713.0</td>\n",
       "      <td>518616</td>\n",
       "      <td>CAGCAGCTCGCTTTGGCATCACACCTCAGCTCATCGATCAATCCCT...</td>\n",
       "    </tr>\n",
       "    <tr>\n",
       "      <th>24</th>\n",
       "      <td>Ga0073928_10000015</td>\n",
       "      <td>2616653351</td>\n",
       "      <td>85.33</td>\n",
       "      <td>75</td>\n",
       "      <td>0.000185</td>\n",
       "      <td>0.015791</td>\n",
       "      <td>11</td>\n",
       "      <td>0</td>\n",
       "      <td>50595</td>\n",
       "      <td>50669</td>\n",
       "      <td>4391</td>\n",
       "      <td>4317</td>\n",
       "      <td>5.000000e-12</td>\n",
       "      <td>78.7</td>\n",
       "      <td>405279</td>\n",
       "      <td>TCGAACGACAGCGCAACCTCTGTGGCAACTAGATCTTACGGACTTA...</td>\n",
       "    </tr>\n",
       "    <tr>\n",
       "      <th>25</th>\n",
       "      <td>Ga0073928_10000015</td>\n",
       "      <td>2617273762</td>\n",
       "      <td>85.33</td>\n",
       "      <td>75</td>\n",
       "      <td>0.000185</td>\n",
       "      <td>0.015791</td>\n",
       "      <td>11</td>\n",
       "      <td>0</td>\n",
       "      <td>50595</td>\n",
       "      <td>50669</td>\n",
       "      <td>1802</td>\n",
       "      <td>1876</td>\n",
       "      <td>5.000000e-12</td>\n",
       "      <td>78.7</td>\n",
       "      <td>405279</td>\n",
       "      <td>TCGAACGACAGCGCAACCTCTGTGGCAACTAGATCTTACGGACTTA...</td>\n",
       "    </tr>\n",
       "    <tr>\n",
       "      <th>26</th>\n",
       "      <td>Ga0073928_10000016</td>\n",
       "      <td>2616652926</td>\n",
       "      <td>76.55</td>\n",
       "      <td>533</td>\n",
       "      <td>0.001328</td>\n",
       "      <td>0.101686</td>\n",
       "      <td>121</td>\n",
       "      <td>4</td>\n",
       "      <td>87414</td>\n",
       "      <td>87944</td>\n",
       "      <td>4804</td>\n",
       "      <td>4274</td>\n",
       "      <td>2.000000e-75</td>\n",
       "      <td>289.0</td>\n",
       "      <td>401248</td>\n",
       "      <td>ATTGTGCTGAACCTGTTCCACACAGCACGTAGAAGTGGCGAACATT...</td>\n",
       "    </tr>\n",
       "    <tr>\n",
       "      <th>27</th>\n",
       "      <td>Ga0073928_10000016</td>\n",
       "      <td>2616653369</td>\n",
       "      <td>76.55</td>\n",
       "      <td>533</td>\n",
       "      <td>0.001328</td>\n",
       "      <td>0.101686</td>\n",
       "      <td>121</td>\n",
       "      <td>4</td>\n",
       "      <td>87414</td>\n",
       "      <td>87944</td>\n",
       "      <td>4345</td>\n",
       "      <td>3815</td>\n",
       "      <td>2.000000e-75</td>\n",
       "      <td>289.0</td>\n",
       "      <td>401248</td>\n",
       "      <td>ATTGTGCTGAACCTGTTCCACACAGCACGTAGAAGTGGCGAACATT...</td>\n",
       "    </tr>\n",
       "    <tr>\n",
       "      <th>28</th>\n",
       "      <td>Ga0073928_10000016</td>\n",
       "      <td>2617273834</td>\n",
       "      <td>76.55</td>\n",
       "      <td>533</td>\n",
       "      <td>0.001328</td>\n",
       "      <td>0.101686</td>\n",
       "      <td>121</td>\n",
       "      <td>4</td>\n",
       "      <td>87414</td>\n",
       "      <td>87944</td>\n",
       "      <td>1422</td>\n",
       "      <td>1952</td>\n",
       "      <td>2.000000e-75</td>\n",
       "      <td>289.0</td>\n",
       "      <td>401248</td>\n",
       "      <td>ATTGTGCTGAACCTGTTCCACACAGCACGTAGAAGTGGCGAACATT...</td>\n",
       "    </tr>\n",
       "    <tr>\n",
       "      <th>29</th>\n",
       "      <td>Ga0073928_10000016</td>\n",
       "      <td>2616646139</td>\n",
       "      <td>78.66</td>\n",
       "      <td>239</td>\n",
       "      <td>0.000596</td>\n",
       "      <td>0.046853</td>\n",
       "      <td>45</td>\n",
       "      <td>6</td>\n",
       "      <td>22246</td>\n",
       "      <td>22481</td>\n",
       "      <td>1841</td>\n",
       "      <td>2076</td>\n",
       "      <td>8.000000e-35</td>\n",
       "      <td>154.0</td>\n",
       "      <td>401248</td>\n",
       "      <td>ATTGTGCTGAACCTGTTCCACACAGCACGTAGAAGTGGCGAACATT...</td>\n",
       "    </tr>\n",
       "    <tr>\n",
       "      <th>...</th>\n",
       "      <td>...</td>\n",
       "      <td>...</td>\n",
       "      <td>...</td>\n",
       "      <td>...</td>\n",
       "      <td>...</td>\n",
       "      <td>...</td>\n",
       "      <td>...</td>\n",
       "      <td>...</td>\n",
       "      <td>...</td>\n",
       "      <td>...</td>\n",
       "      <td>...</td>\n",
       "      <td>...</td>\n",
       "      <td>...</td>\n",
       "      <td>...</td>\n",
       "      <td>...</td>\n",
       "      <td>...</td>\n",
       "    </tr>\n",
       "    <tr>\n",
       "      <th>26334</th>\n",
       "      <td>Ga0073928_11966046</td>\n",
       "      <td>2616652961</td>\n",
       "      <td>93.42</td>\n",
       "      <td>76</td>\n",
       "      <td>0.372549</td>\n",
       "      <td>34.803529</td>\n",
       "      <td>5</td>\n",
       "      <td>0</td>\n",
       "      <td>52</td>\n",
       "      <td>127</td>\n",
       "      <td>10913</td>\n",
       "      <td>10988</td>\n",
       "      <td>6.000000e-26</td>\n",
       "      <td>113.0</td>\n",
       "      <td>204</td>\n",
       "      <td>AAATCTTTGACGCCTGCAGGGGGCTTTGCTATACTCGGCGAGTTCG...</td>\n",
       "    </tr>\n",
       "    <tr>\n",
       "      <th>26335</th>\n",
       "      <td>Ga0073928_11966046</td>\n",
       "      <td>2617273851</td>\n",
       "      <td>93.42</td>\n",
       "      <td>76</td>\n",
       "      <td>0.372549</td>\n",
       "      <td>34.803529</td>\n",
       "      <td>5</td>\n",
       "      <td>0</td>\n",
       "      <td>52</td>\n",
       "      <td>127</td>\n",
       "      <td>1552</td>\n",
       "      <td>1477</td>\n",
       "      <td>6.000000e-26</td>\n",
       "      <td>113.0</td>\n",
       "      <td>204</td>\n",
       "      <td>AAATCTTTGACGCCTGCAGGGGGCTTTGCTATACTCGGCGAGTTCG...</td>\n",
       "    </tr>\n",
       "    <tr>\n",
       "      <th>26336</th>\n",
       "      <td>Ga0073928_11966217</td>\n",
       "      <td>2616653061</td>\n",
       "      <td>84.26</td>\n",
       "      <td>197</td>\n",
       "      <td>0.970443</td>\n",
       "      <td>81.769557</td>\n",
       "      <td>31</td>\n",
       "      <td>0</td>\n",
       "      <td>1</td>\n",
       "      <td>197</td>\n",
       "      <td>4918</td>\n",
       "      <td>4722</td>\n",
       "      <td>7.000000e-50</td>\n",
       "      <td>193.0</td>\n",
       "      <td>203</td>\n",
       "      <td>GCCGGGGCTTCTTCTGCGGGTACCGTCATCATCGTCCCCGCCGAAA...</td>\n",
       "    </tr>\n",
       "    <tr>\n",
       "      <th>26337</th>\n",
       "      <td>Ga0073928_11966217</td>\n",
       "      <td>2616653379</td>\n",
       "      <td>84.26</td>\n",
       "      <td>197</td>\n",
       "      <td>0.970443</td>\n",
       "      <td>81.769557</td>\n",
       "      <td>31</td>\n",
       "      <td>0</td>\n",
       "      <td>1</td>\n",
       "      <td>197</td>\n",
       "      <td>5320</td>\n",
       "      <td>5516</td>\n",
       "      <td>7.000000e-50</td>\n",
       "      <td>193.0</td>\n",
       "      <td>203</td>\n",
       "      <td>GCCGGGGCTTCTTCTGCGGGTACCGTCATCATCGTCCCCGCCGAAA...</td>\n",
       "    </tr>\n",
       "    <tr>\n",
       "      <th>26338</th>\n",
       "      <td>Ga0073928_11966217</td>\n",
       "      <td>2616646202</td>\n",
       "      <td>84.26</td>\n",
       "      <td>197</td>\n",
       "      <td>0.970443</td>\n",
       "      <td>81.769557</td>\n",
       "      <td>31</td>\n",
       "      <td>0</td>\n",
       "      <td>1</td>\n",
       "      <td>197</td>\n",
       "      <td>740</td>\n",
       "      <td>936</td>\n",
       "      <td>7.000000e-50</td>\n",
       "      <td>193.0</td>\n",
       "      <td>203</td>\n",
       "      <td>GCCGGGGCTTCTTCTGCGGGTACCGTCATCATCGTCCCCGCCGAAA...</td>\n",
       "    </tr>\n",
       "    <tr>\n",
       "      <th>26339</th>\n",
       "      <td>Ga0073928_11966217</td>\n",
       "      <td>2617273829</td>\n",
       "      <td>84.26</td>\n",
       "      <td>197</td>\n",
       "      <td>0.970443</td>\n",
       "      <td>81.769557</td>\n",
       "      <td>31</td>\n",
       "      <td>0</td>\n",
       "      <td>1</td>\n",
       "      <td>197</td>\n",
       "      <td>21411</td>\n",
       "      <td>21215</td>\n",
       "      <td>7.000000e-50</td>\n",
       "      <td>193.0</td>\n",
       "      <td>203</td>\n",
       "      <td>GCCGGGGCTTCTTCTGCGGGTACCGTCATCATCGTCCCCGCCGAAA...</td>\n",
       "    </tr>\n",
       "    <tr>\n",
       "      <th>26340</th>\n",
       "      <td>Ga0073928_11966286</td>\n",
       "      <td>2616653061</td>\n",
       "      <td>97.55</td>\n",
       "      <td>204</td>\n",
       "      <td>1.009901</td>\n",
       "      <td>98.515842</td>\n",
       "      <td>3</td>\n",
       "      <td>2</td>\n",
       "      <td>1</td>\n",
       "      <td>202</td>\n",
       "      <td>5758</td>\n",
       "      <td>5961</td>\n",
       "      <td>1.000000e-96</td>\n",
       "      <td>348.0</td>\n",
       "      <td>202</td>\n",
       "      <td>ACGCAGATCAGCTACGCTGCGTTGAATACGTTCCCGGGCCTTGTAC...</td>\n",
       "    </tr>\n",
       "    <tr>\n",
       "      <th>26341</th>\n",
       "      <td>Ga0073928_11966286</td>\n",
       "      <td>2616653379</td>\n",
       "      <td>97.55</td>\n",
       "      <td>204</td>\n",
       "      <td>1.009901</td>\n",
       "      <td>98.515842</td>\n",
       "      <td>3</td>\n",
       "      <td>2</td>\n",
       "      <td>1</td>\n",
       "      <td>202</td>\n",
       "      <td>4480</td>\n",
       "      <td>4277</td>\n",
       "      <td>1.000000e-96</td>\n",
       "      <td>348.0</td>\n",
       "      <td>202</td>\n",
       "      <td>ACGCAGATCAGCTACGCTGCGTTGAATACGTTCCCGGGCCTTGTAC...</td>\n",
       "    </tr>\n",
       "    <tr>\n",
       "      <th>26342</th>\n",
       "      <td>Ga0073928_11966286</td>\n",
       "      <td>2617273829</td>\n",
       "      <td>97.55</td>\n",
       "      <td>204</td>\n",
       "      <td>1.009901</td>\n",
       "      <td>98.515842</td>\n",
       "      <td>3</td>\n",
       "      <td>2</td>\n",
       "      <td>1</td>\n",
       "      <td>202</td>\n",
       "      <td>22251</td>\n",
       "      <td>22454</td>\n",
       "      <td>1.000000e-96</td>\n",
       "      <td>348.0</td>\n",
       "      <td>202</td>\n",
       "      <td>ACGCAGATCAGCTACGCTGCGTTGAATACGTTCCCGGGCCTTGTAC...</td>\n",
       "    </tr>\n",
       "    <tr>\n",
       "      <th>26343</th>\n",
       "      <td>Ga0073928_11966425</td>\n",
       "      <td>2616646099</td>\n",
       "      <td>90.77</td>\n",
       "      <td>65</td>\n",
       "      <td>0.321782</td>\n",
       "      <td>29.208168</td>\n",
       "      <td>6</td>\n",
       "      <td>0</td>\n",
       "      <td>126</td>\n",
       "      <td>190</td>\n",
       "      <td>6132</td>\n",
       "      <td>6068</td>\n",
       "      <td>4.000000e-18</td>\n",
       "      <td>87.9</td>\n",
       "      <td>202</td>\n",
       "      <td>AAGACGACGTATAGGGTGTGACACGTGACCAATGCGGTAAGATTAC...</td>\n",
       "    </tr>\n",
       "    <tr>\n",
       "      <th>26344</th>\n",
       "      <td>Ga0073928_11966425</td>\n",
       "      <td>2616653379</td>\n",
       "      <td>90.77</td>\n",
       "      <td>65</td>\n",
       "      <td>0.321782</td>\n",
       "      <td>29.208168</td>\n",
       "      <td>6</td>\n",
       "      <td>0</td>\n",
       "      <td>126</td>\n",
       "      <td>190</td>\n",
       "      <td>1574</td>\n",
       "      <td>1510</td>\n",
       "      <td>4.000000e-18</td>\n",
       "      <td>87.9</td>\n",
       "      <td>202</td>\n",
       "      <td>AAGACGACGTATAGGGTGTGACACGTGACCAATGCGGTAAGATTAC...</td>\n",
       "    </tr>\n",
       "    <tr>\n",
       "      <th>26345</th>\n",
       "      <td>Ga0073928_11966425</td>\n",
       "      <td>2617273829</td>\n",
       "      <td>90.77</td>\n",
       "      <td>65</td>\n",
       "      <td>0.321782</td>\n",
       "      <td>29.208168</td>\n",
       "      <td>6</td>\n",
       "      <td>0</td>\n",
       "      <td>126</td>\n",
       "      <td>190</td>\n",
       "      <td>25157</td>\n",
       "      <td>25221</td>\n",
       "      <td>4.000000e-18</td>\n",
       "      <td>87.9</td>\n",
       "      <td>202</td>\n",
       "      <td>AAGACGACGTATAGGGTGTGACACGTGACCAATGCGGTAAGATTAC...</td>\n",
       "    </tr>\n",
       "    <tr>\n",
       "      <th>26346</th>\n",
       "      <td>Ga0073928_11966434</td>\n",
       "      <td>2616653061</td>\n",
       "      <td>86.73</td>\n",
       "      <td>196</td>\n",
       "      <td>0.970297</td>\n",
       "      <td>84.153861</td>\n",
       "      <td>25</td>\n",
       "      <td>1</td>\n",
       "      <td>1</td>\n",
       "      <td>196</td>\n",
       "      <td>5352</td>\n",
       "      <td>5158</td>\n",
       "      <td>4.000000e-57</td>\n",
       "      <td>217.0</td>\n",
       "      <td>202</td>\n",
       "      <td>GCTTGTGCGGGCCCCCGTCAATTCCTTTGAGTTTTAACCTTGCGGC...</td>\n",
       "    </tr>\n",
       "    <tr>\n",
       "      <th>26347</th>\n",
       "      <td>Ga0073928_11966434</td>\n",
       "      <td>2616653379</td>\n",
       "      <td>86.73</td>\n",
       "      <td>196</td>\n",
       "      <td>0.970297</td>\n",
       "      <td>84.153861</td>\n",
       "      <td>25</td>\n",
       "      <td>1</td>\n",
       "      <td>1</td>\n",
       "      <td>196</td>\n",
       "      <td>4886</td>\n",
       "      <td>5080</td>\n",
       "      <td>4.000000e-57</td>\n",
       "      <td>217.0</td>\n",
       "      <td>202</td>\n",
       "      <td>GCTTGTGCGGGCCCCCGTCAATTCCTTTGAGTTTTAACCTTGCGGC...</td>\n",
       "    </tr>\n",
       "    <tr>\n",
       "      <th>26348</th>\n",
       "      <td>Ga0073928_11966434</td>\n",
       "      <td>2616646202</td>\n",
       "      <td>86.73</td>\n",
       "      <td>196</td>\n",
       "      <td>0.970297</td>\n",
       "      <td>84.153861</td>\n",
       "      <td>25</td>\n",
       "      <td>1</td>\n",
       "      <td>1</td>\n",
       "      <td>196</td>\n",
       "      <td>306</td>\n",
       "      <td>500</td>\n",
       "      <td>4.000000e-57</td>\n",
       "      <td>217.0</td>\n",
       "      <td>202</td>\n",
       "      <td>GCTTGTGCGGGCCCCCGTCAATTCCTTTGAGTTTTAACCTTGCGGC...</td>\n",
       "    </tr>\n",
       "    <tr>\n",
       "      <th>26349</th>\n",
       "      <td>Ga0073928_11966434</td>\n",
       "      <td>2617273829</td>\n",
       "      <td>86.73</td>\n",
       "      <td>196</td>\n",
       "      <td>0.970297</td>\n",
       "      <td>84.153861</td>\n",
       "      <td>25</td>\n",
       "      <td>1</td>\n",
       "      <td>1</td>\n",
       "      <td>196</td>\n",
       "      <td>21845</td>\n",
       "      <td>21651</td>\n",
       "      <td>4.000000e-57</td>\n",
       "      <td>217.0</td>\n",
       "      <td>202</td>\n",
       "      <td>GCTTGTGCGGGCCCCCGTCAATTCCTTTGAGTTTTAACCTTGCGGC...</td>\n",
       "    </tr>\n",
       "    <tr>\n",
       "      <th>26350</th>\n",
       "      <td>Ga0073928_11966469</td>\n",
       "      <td>2616646099</td>\n",
       "      <td>80.92</td>\n",
       "      <td>152</td>\n",
       "      <td>0.752475</td>\n",
       "      <td>60.890297</td>\n",
       "      <td>27</td>\n",
       "      <td>2</td>\n",
       "      <td>45</td>\n",
       "      <td>195</td>\n",
       "      <td>6132</td>\n",
       "      <td>5982</td>\n",
       "      <td>1.000000e-27</td>\n",
       "      <td>119.0</td>\n",
       "      <td>202</td>\n",
       "      <td>GAAGCCCCGGTAAACGGCGGCCGTAACTATAACGGTCCTAAGGTAG...</td>\n",
       "    </tr>\n",
       "    <tr>\n",
       "      <th>26351</th>\n",
       "      <td>Ga0073928_11966469</td>\n",
       "      <td>2616653379</td>\n",
       "      <td>80.92</td>\n",
       "      <td>152</td>\n",
       "      <td>0.752475</td>\n",
       "      <td>60.890297</td>\n",
       "      <td>27</td>\n",
       "      <td>2</td>\n",
       "      <td>45</td>\n",
       "      <td>195</td>\n",
       "      <td>1574</td>\n",
       "      <td>1424</td>\n",
       "      <td>1.000000e-27</td>\n",
       "      <td>119.0</td>\n",
       "      <td>202</td>\n",
       "      <td>GAAGCCCCGGTAAACGGCGGCCGTAACTATAACGGTCCTAAGGTAG...</td>\n",
       "    </tr>\n",
       "    <tr>\n",
       "      <th>26352</th>\n",
       "      <td>Ga0073928_11966469</td>\n",
       "      <td>2617273829</td>\n",
       "      <td>80.39</td>\n",
       "      <td>153</td>\n",
       "      <td>0.757426</td>\n",
       "      <td>60.889455</td>\n",
       "      <td>27</td>\n",
       "      <td>3</td>\n",
       "      <td>45</td>\n",
       "      <td>195</td>\n",
       "      <td>25157</td>\n",
       "      <td>25308</td>\n",
       "      <td>6.000000e-26</td>\n",
       "      <td>113.0</td>\n",
       "      <td>202</td>\n",
       "      <td>GAAGCCCCGGTAAACGGCGGCCGTAACTATAACGGTCCTAAGGTAG...</td>\n",
       "    </tr>\n",
       "    <tr>\n",
       "      <th>26353</th>\n",
       "      <td>Ga0073928_11966884</td>\n",
       "      <td>2616646202</td>\n",
       "      <td>83.50</td>\n",
       "      <td>200</td>\n",
       "      <td>0.995025</td>\n",
       "      <td>83.084577</td>\n",
       "      <td>21</td>\n",
       "      <td>11</td>\n",
       "      <td>1</td>\n",
       "      <td>197</td>\n",
       "      <td>199</td>\n",
       "      <td>9</td>\n",
       "      <td>7.000000e-45</td>\n",
       "      <td>176.0</td>\n",
       "      <td>201</td>\n",
       "      <td>AGGCGCTGCATGGCTGTCGTCAGCTCGTGCCGTGAGGTGTTGGGTT...</td>\n",
       "    </tr>\n",
       "    <tr>\n",
       "      <th>26354</th>\n",
       "      <td>Ga0073928_11966884</td>\n",
       "      <td>2616653061</td>\n",
       "      <td>83.00</td>\n",
       "      <td>200</td>\n",
       "      <td>0.995025</td>\n",
       "      <td>82.587065</td>\n",
       "      <td>22</td>\n",
       "      <td>10</td>\n",
       "      <td>1</td>\n",
       "      <td>197</td>\n",
       "      <td>5459</td>\n",
       "      <td>5649</td>\n",
       "      <td>3.000000e-43</td>\n",
       "      <td>171.0</td>\n",
       "      <td>201</td>\n",
       "      <td>AGGCGCTGCATGGCTGTCGTCAGCTCGTGCCGTGAGGTGTTGGGTT...</td>\n",
       "    </tr>\n",
       "    <tr>\n",
       "      <th>26355</th>\n",
       "      <td>Ga0073928_11966884</td>\n",
       "      <td>2616653379</td>\n",
       "      <td>83.00</td>\n",
       "      <td>200</td>\n",
       "      <td>0.995025</td>\n",
       "      <td>82.587065</td>\n",
       "      <td>22</td>\n",
       "      <td>10</td>\n",
       "      <td>1</td>\n",
       "      <td>197</td>\n",
       "      <td>4779</td>\n",
       "      <td>4589</td>\n",
       "      <td>3.000000e-43</td>\n",
       "      <td>171.0</td>\n",
       "      <td>201</td>\n",
       "      <td>AGGCGCTGCATGGCTGTCGTCAGCTCGTGCCGTGAGGTGTTGGGTT...</td>\n",
       "    </tr>\n",
       "    <tr>\n",
       "      <th>26356</th>\n",
       "      <td>Ga0073928_11966884</td>\n",
       "      <td>2617273829</td>\n",
       "      <td>83.00</td>\n",
       "      <td>200</td>\n",
       "      <td>0.995025</td>\n",
       "      <td>82.587065</td>\n",
       "      <td>22</td>\n",
       "      <td>10</td>\n",
       "      <td>1</td>\n",
       "      <td>197</td>\n",
       "      <td>21952</td>\n",
       "      <td>22142</td>\n",
       "      <td>3.000000e-43</td>\n",
       "      <td>171.0</td>\n",
       "      <td>201</td>\n",
       "      <td>AGGCGCTGCATGGCTGTCGTCAGCTCGTGCCGTGAGGTGTTGGGTT...</td>\n",
       "    </tr>\n",
       "    <tr>\n",
       "      <th>26357</th>\n",
       "      <td>Ga0073928_11966918</td>\n",
       "      <td>2616646099</td>\n",
       "      <td>90.35</td>\n",
       "      <td>114</td>\n",
       "      <td>0.570000</td>\n",
       "      <td>51.499500</td>\n",
       "      <td>9</td>\n",
       "      <td>2</td>\n",
       "      <td>89</td>\n",
       "      <td>200</td>\n",
       "      <td>6402</td>\n",
       "      <td>6515</td>\n",
       "      <td>2.000000e-36</td>\n",
       "      <td>148.0</td>\n",
       "      <td>200</td>\n",
       "      <td>ACAAGTTCGCCGAGCAACTCGTTAAGACAGTCGAACGATCGTTACT...</td>\n",
       "    </tr>\n",
       "    <tr>\n",
       "      <th>26358</th>\n",
       "      <td>Ga0073928_11966918</td>\n",
       "      <td>2616646099</td>\n",
       "      <td>100.00</td>\n",
       "      <td>50</td>\n",
       "      <td>0.250000</td>\n",
       "      <td>25.000000</td>\n",
       "      <td>0</td>\n",
       "      <td>0</td>\n",
       "      <td>39</td>\n",
       "      <td>88</td>\n",
       "      <td>6083</td>\n",
       "      <td>6132</td>\n",
       "      <td>8.000000e-20</td>\n",
       "      <td>93.5</td>\n",
       "      <td>200</td>\n",
       "      <td>ACAAGTTCGCCGAGCAACTCGTTAAGACAGTCGAACGATCGTTACT...</td>\n",
       "    </tr>\n",
       "    <tr>\n",
       "      <th>26359</th>\n",
       "      <td>Ga0073928_11966918</td>\n",
       "      <td>2616653061</td>\n",
       "      <td>90.35</td>\n",
       "      <td>114</td>\n",
       "      <td>0.570000</td>\n",
       "      <td>51.499500</td>\n",
       "      <td>9</td>\n",
       "      <td>2</td>\n",
       "      <td>89</td>\n",
       "      <td>200</td>\n",
       "      <td>8392</td>\n",
       "      <td>8279</td>\n",
       "      <td>2.000000e-36</td>\n",
       "      <td>148.0</td>\n",
       "      <td>200</td>\n",
       "      <td>ACAAGTTCGCCGAGCAACTCGTTAAGACAGTCGAACGATCGTTACT...</td>\n",
       "    </tr>\n",
       "    <tr>\n",
       "      <th>26360</th>\n",
       "      <td>Ga0073928_11966918</td>\n",
       "      <td>2616653379</td>\n",
       "      <td>90.35</td>\n",
       "      <td>114</td>\n",
       "      <td>0.570000</td>\n",
       "      <td>51.499500</td>\n",
       "      <td>9</td>\n",
       "      <td>2</td>\n",
       "      <td>89</td>\n",
       "      <td>200</td>\n",
       "      <td>1846</td>\n",
       "      <td>1959</td>\n",
       "      <td>2.000000e-36</td>\n",
       "      <td>148.0</td>\n",
       "      <td>200</td>\n",
       "      <td>ACAAGTTCGCCGAGCAACTCGTTAAGACAGTCGAACGATCGTTACT...</td>\n",
       "    </tr>\n",
       "    <tr>\n",
       "      <th>26361</th>\n",
       "      <td>Ga0073928_11966918</td>\n",
       "      <td>2616653379</td>\n",
       "      <td>100.00</td>\n",
       "      <td>50</td>\n",
       "      <td>0.250000</td>\n",
       "      <td>25.000000</td>\n",
       "      <td>0</td>\n",
       "      <td>0</td>\n",
       "      <td>39</td>\n",
       "      <td>88</td>\n",
       "      <td>1525</td>\n",
       "      <td>1574</td>\n",
       "      <td>8.000000e-20</td>\n",
       "      <td>93.5</td>\n",
       "      <td>200</td>\n",
       "      <td>ACAAGTTCGCCGAGCAACTCGTTAAGACAGTCGAACGATCGTTACT...</td>\n",
       "    </tr>\n",
       "    <tr>\n",
       "      <th>26362</th>\n",
       "      <td>Ga0073928_11966918</td>\n",
       "      <td>2617273829</td>\n",
       "      <td>90.35</td>\n",
       "      <td>114</td>\n",
       "      <td>0.570000</td>\n",
       "      <td>51.499500</td>\n",
       "      <td>9</td>\n",
       "      <td>2</td>\n",
       "      <td>89</td>\n",
       "      <td>200</td>\n",
       "      <td>24885</td>\n",
       "      <td>24772</td>\n",
       "      <td>2.000000e-36</td>\n",
       "      <td>148.0</td>\n",
       "      <td>200</td>\n",
       "      <td>ACAAGTTCGCCGAGCAACTCGTTAAGACAGTCGAACGATCGTTACT...</td>\n",
       "    </tr>\n",
       "    <tr>\n",
       "      <th>26363</th>\n",
       "      <td>Ga0073928_11966918</td>\n",
       "      <td>2617273829</td>\n",
       "      <td>100.00</td>\n",
       "      <td>50</td>\n",
       "      <td>0.250000</td>\n",
       "      <td>25.000000</td>\n",
       "      <td>0</td>\n",
       "      <td>0</td>\n",
       "      <td>39</td>\n",
       "      <td>88</td>\n",
       "      <td>25206</td>\n",
       "      <td>25157</td>\n",
       "      <td>8.000000e-20</td>\n",
       "      <td>93.5</td>\n",
       "      <td>200</td>\n",
       "      <td>ACAAGTTCGCCGAGCAACTCGTTAAGACAGTCGAACGATCGTTACT...</td>\n",
       "    </tr>\n",
       "  </tbody>\n",
       "</table>\n",
       "<p>26364 rows × 16 columns</p>\n",
       "</div>"
      ],
      "text/plain": [
       "                     quid        suid    iden  alen  Coverage     Metric  \\\n",
       "0      Ga0073928_10000001  2616646159   73.97   438  0.000371   0.027420   \n",
       "1      Ga0073928_10000002  2616653076   74.33  1005  0.001313   0.097569   \n",
       "2      Ga0073928_10000002  2617273876   74.33  1005  0.001313   0.097569   \n",
       "3      Ga0073928_10000003  2616646130   74.74  1607  0.002156   0.161123   \n",
       "4      Ga0073928_10000004  2616646178   88.33    60  0.000083   0.007306   \n",
       "5      Ga0073928_10000004  2616653415   92.86    42  0.000058   0.005377   \n",
       "6      Ga0073928_10000005  2616646216   79.71   971  0.001377   0.109752   \n",
       "7      Ga0073928_10000005  2616646158   79.20   971  0.001377   0.109050   \n",
       "8      Ga0073928_10000005  2616653440   73.68  1083  0.001536   0.113151   \n",
       "9      Ga0073928_10000005  2616646201   74.32   767  0.001088   0.080832   \n",
       "10     Ga0073928_10000005  2617273795   73.04   805  0.001142   0.083376   \n",
       "11     Ga0073928_10000005  2616653450   73.63   383  0.000543   0.039989   \n",
       "12     Ga0073928_10000005  2616653019   72.37   456  0.000647   0.046796   \n",
       "13     Ga0073928_10000005  2616652971   85.00   120  0.000170   0.014464   \n",
       "14     Ga0073928_10000005  2616652971   73.65   277  0.000393   0.028929   \n",
       "15     Ga0073928_10000005  2616646137   89.19    74  0.000105   0.009359   \n",
       "16     Ga0073928_10000005  2616646196   71.56   327  0.000464   0.033182   \n",
       "17     Ga0073928_10000005  2616653050   85.14    74  0.000105   0.008934   \n",
       "18     Ga0073928_10000005  2616653358   85.14    74  0.000105   0.008934   \n",
       "19     Ga0073928_10000006  2616653426   75.29   255  0.000384   0.028892   \n",
       "20     Ga0073928_10000006  2616653389   77.69   130  0.000196   0.015199   \n",
       "21     Ga0073928_10000008  2616646197   94.74    57  0.000099   0.009368   \n",
       "22     Ga0073928_10000011  2616652943   76.17  1385  0.002671   0.203417   \n",
       "23     Ga0073928_10000011  2616653384   76.17  1385  0.002671   0.203417   \n",
       "24     Ga0073928_10000015  2616653351   85.33    75  0.000185   0.015791   \n",
       "25     Ga0073928_10000015  2617273762   85.33    75  0.000185   0.015791   \n",
       "26     Ga0073928_10000016  2616652926   76.55   533  0.001328   0.101686   \n",
       "27     Ga0073928_10000016  2616653369   76.55   533  0.001328   0.101686   \n",
       "28     Ga0073928_10000016  2617273834   76.55   533  0.001328   0.101686   \n",
       "29     Ga0073928_10000016  2616646139   78.66   239  0.000596   0.046853   \n",
       "...                   ...         ...     ...   ...       ...        ...   \n",
       "26334  Ga0073928_11966046  2616652961   93.42    76  0.372549  34.803529   \n",
       "26335  Ga0073928_11966046  2617273851   93.42    76  0.372549  34.803529   \n",
       "26336  Ga0073928_11966217  2616653061   84.26   197  0.970443  81.769557   \n",
       "26337  Ga0073928_11966217  2616653379   84.26   197  0.970443  81.769557   \n",
       "26338  Ga0073928_11966217  2616646202   84.26   197  0.970443  81.769557   \n",
       "26339  Ga0073928_11966217  2617273829   84.26   197  0.970443  81.769557   \n",
       "26340  Ga0073928_11966286  2616653061   97.55   204  1.009901  98.515842   \n",
       "26341  Ga0073928_11966286  2616653379   97.55   204  1.009901  98.515842   \n",
       "26342  Ga0073928_11966286  2617273829   97.55   204  1.009901  98.515842   \n",
       "26343  Ga0073928_11966425  2616646099   90.77    65  0.321782  29.208168   \n",
       "26344  Ga0073928_11966425  2616653379   90.77    65  0.321782  29.208168   \n",
       "26345  Ga0073928_11966425  2617273829   90.77    65  0.321782  29.208168   \n",
       "26346  Ga0073928_11966434  2616653061   86.73   196  0.970297  84.153861   \n",
       "26347  Ga0073928_11966434  2616653379   86.73   196  0.970297  84.153861   \n",
       "26348  Ga0073928_11966434  2616646202   86.73   196  0.970297  84.153861   \n",
       "26349  Ga0073928_11966434  2617273829   86.73   196  0.970297  84.153861   \n",
       "26350  Ga0073928_11966469  2616646099   80.92   152  0.752475  60.890297   \n",
       "26351  Ga0073928_11966469  2616653379   80.92   152  0.752475  60.890297   \n",
       "26352  Ga0073928_11966469  2617273829   80.39   153  0.757426  60.889455   \n",
       "26353  Ga0073928_11966884  2616646202   83.50   200  0.995025  83.084577   \n",
       "26354  Ga0073928_11966884  2616653061   83.00   200  0.995025  82.587065   \n",
       "26355  Ga0073928_11966884  2616653379   83.00   200  0.995025  82.587065   \n",
       "26356  Ga0073928_11966884  2617273829   83.00   200  0.995025  82.587065   \n",
       "26357  Ga0073928_11966918  2616646099   90.35   114  0.570000  51.499500   \n",
       "26358  Ga0073928_11966918  2616646099  100.00    50  0.250000  25.000000   \n",
       "26359  Ga0073928_11966918  2616653061   90.35   114  0.570000  51.499500   \n",
       "26360  Ga0073928_11966918  2616653379   90.35   114  0.570000  51.499500   \n",
       "26361  Ga0073928_11966918  2616653379  100.00    50  0.250000  25.000000   \n",
       "26362  Ga0073928_11966918  2617273829   90.35   114  0.570000  51.499500   \n",
       "26363  Ga0073928_11966918  2617273829  100.00    50  0.250000  25.000000   \n",
       "\n",
       "       mism  gapo    qsta    qend   ssta   send           eval   bits  \\\n",
       "0       100    13  725591  726021  10816  11246   1.000000e-37  165.0   \n",
       "1       233    23  110425  111418    475   1465  1.000000e-109  403.0   \n",
       "2       233    23  110425  111418  34447  35437  1.000000e-109  403.0   \n",
       "3       376    29  217242  218833   2554    963   0.000000e+00  691.0   \n",
       "4         7     0   56696   56755   3397   3456   4.000000e-10   73.1   \n",
       "5         3     0  231872  231913   1625   1666   9.000000e-07   62.1   \n",
       "6       191     5  102846  103813   6097   7064   0.000000e+00  697.0   \n",
       "7       180    16  102846  103805   4551   3592   0.000000e+00  654.0   \n",
       "8       249    33  615295  616359   5839   6903  3.000000e-105  388.0   \n",
       "9       163    29  474629  475375  15357  14605   8.000000e-77  294.0   \n",
       "10      179    32  474629  475411   2096   1308   2.000000e-63  250.0   \n",
       "11       89     9   89657   90033  20975  21351   1.000000e-29  137.0   \n",
       "12      110    15  474629  475073    451      1   2.000000e-27  130.0   \n",
       "13       18     0  504155  504274   8289   8170   4.000000e-25  122.0   \n",
       "14       71     2  140403  140678   7917   8192   4.000000e-20  106.0   \n",
       "15        8     0  583008  583081   5043   5116   3.000000e-16   93.5   \n",
       "16       91     2  140404  140729    791   1116   1.000000e-14   87.9   \n",
       "17       11     0  583008  583081   3492   3565   3.000000e-11   76.8   \n",
       "18       11     0  583008  583081   6475   6402   3.000000e-11   76.8   \n",
       "19       59     4  261289  261541   8757   8505   5.000000e-24  119.0   \n",
       "20       29     0    9617    9746   4874   4745   2.000000e-12   80.5   \n",
       "21        3     0  322028  322084   1727   1671   3.000000e-15   89.8   \n",
       "22      312    17  297567  298942   1973    598   0.000000e+00  713.0   \n",
       "23      312    17  297567  298942   9441  10816   0.000000e+00  713.0   \n",
       "24       11     0   50595   50669   4391   4317   5.000000e-12   78.7   \n",
       "25       11     0   50595   50669   1802   1876   5.000000e-12   78.7   \n",
       "26      121     4   87414   87944   4804   4274   2.000000e-75  289.0   \n",
       "27      121     4   87414   87944   4345   3815   2.000000e-75  289.0   \n",
       "28      121     4   87414   87944   1422   1952   2.000000e-75  289.0   \n",
       "29       45     6   22246   22481   1841   2076   8.000000e-35  154.0   \n",
       "...     ...   ...     ...     ...    ...    ...            ...    ...   \n",
       "26334     5     0      52     127  10913  10988   6.000000e-26  113.0   \n",
       "26335     5     0      52     127   1552   1477   6.000000e-26  113.0   \n",
       "26336    31     0       1     197   4918   4722   7.000000e-50  193.0   \n",
       "26337    31     0       1     197   5320   5516   7.000000e-50  193.0   \n",
       "26338    31     0       1     197    740    936   7.000000e-50  193.0   \n",
       "26339    31     0       1     197  21411  21215   7.000000e-50  193.0   \n",
       "26340     3     2       1     202   5758   5961   1.000000e-96  348.0   \n",
       "26341     3     2       1     202   4480   4277   1.000000e-96  348.0   \n",
       "26342     3     2       1     202  22251  22454   1.000000e-96  348.0   \n",
       "26343     6     0     126     190   6132   6068   4.000000e-18   87.9   \n",
       "26344     6     0     126     190   1574   1510   4.000000e-18   87.9   \n",
       "26345     6     0     126     190  25157  25221   4.000000e-18   87.9   \n",
       "26346    25     1       1     196   5352   5158   4.000000e-57  217.0   \n",
       "26347    25     1       1     196   4886   5080   4.000000e-57  217.0   \n",
       "26348    25     1       1     196    306    500   4.000000e-57  217.0   \n",
       "26349    25     1       1     196  21845  21651   4.000000e-57  217.0   \n",
       "26350    27     2      45     195   6132   5982   1.000000e-27  119.0   \n",
       "26351    27     2      45     195   1574   1424   1.000000e-27  119.0   \n",
       "26352    27     3      45     195  25157  25308   6.000000e-26  113.0   \n",
       "26353    21    11       1     197    199      9   7.000000e-45  176.0   \n",
       "26354    22    10       1     197   5459   5649   3.000000e-43  171.0   \n",
       "26355    22    10       1     197   4779   4589   3.000000e-43  171.0   \n",
       "26356    22    10       1     197  21952  22142   3.000000e-43  171.0   \n",
       "26357     9     2      89     200   6402   6515   2.000000e-36  148.0   \n",
       "26358     0     0      39      88   6083   6132   8.000000e-20   93.5   \n",
       "26359     9     2      89     200   8392   8279   2.000000e-36  148.0   \n",
       "26360     9     2      89     200   1846   1959   2.000000e-36  148.0   \n",
       "26361     0     0      39      88   1525   1574   8.000000e-20   93.5   \n",
       "26362     9     2      89     200  24885  24772   2.000000e-36  148.0   \n",
       "26363     0     0      39      88  25206  25157   8.000000e-20   93.5   \n",
       "\n",
       "       Seq_size                                             Seq_nt  \n",
       "0       1181591  ACAGTACCTTCGTGATCGCCGCAGTCAGCGTCGTCTTGCCGTGGTC...  \n",
       "1        765630  CCAGTTCAATCCCGGTGCCCATCTGCTGGGCCAGCGCTTCGGCTGC...  \n",
       "2        765630  CCAGTTCAATCCCGGTGCCCATCTGCTGGGCCAGCGCTTCGGCTGC...  \n",
       "3        745438  GAAGGGCGGGTACCACGAACGTCTGCGCCTGCGACGCTACGCTACC...  \n",
       "4        725374  CGGATTGTGTTTCGACAACACCTTGGTGATGGCCGCCGTCAACGTG...  \n",
       "5        725374  CGGATTGTGTTTCGACAACACCTTGGTGATGGCCGCCGTCAACGTG...  \n",
       "6        705209  CATCTCCAACCCCCACGCCGAGCGCAACGTCATCGCCTACGCCAAC...  \n",
       "7        705209  CATCTCCAACCCCCACGCCGAGCGCAACGTCATCGCCTACGCCAAC...  \n",
       "8        705209  CATCTCCAACCCCCACGCCGAGCGCAACGTCATCGCCTACGCCAAC...  \n",
       "9        705209  CATCTCCAACCCCCACGCCGAGCGCAACGTCATCGCCTACGCCAAC...  \n",
       "10       705209  CATCTCCAACCCCCACGCCGAGCGCAACGTCATCGCCTACGCCAAC...  \n",
       "11       705209  CATCTCCAACCCCCACGCCGAGCGCAACGTCATCGCCTACGCCAAC...  \n",
       "12       705209  CATCTCCAACCCCCACGCCGAGCGCAACGTCATCGCCTACGCCAAC...  \n",
       "13       705209  CATCTCCAACCCCCACGCCGAGCGCAACGTCATCGCCTACGCCAAC...  \n",
       "14       705209  CATCTCCAACCCCCACGCCGAGCGCAACGTCATCGCCTACGCCAAC...  \n",
       "15       705209  CATCTCCAACCCCCACGCCGAGCGCAACGTCATCGCCTACGCCAAC...  \n",
       "16       705209  CATCTCCAACCCCCACGCCGAGCGCAACGTCATCGCCTACGCCAAC...  \n",
       "17       705209  CATCTCCAACCCCCACGCCGAGCGCAACGTCATCGCCTACGCCAAC...  \n",
       "18       705209  CATCTCCAACCCCCACGCCGAGCGCAACGTCATCGCCTACGCCAAC...  \n",
       "19       664508  ATCAGGTAGCGTAGCGTCGCAGGCGCAGACGTTCGTGGTACCCGCC...  \n",
       "20       664508  ATCAGGTAGCGTAGCGTCGCAGGCGCAGACGTTCGTGGTACCCGCC...  \n",
       "21       576479  CCAGAGCGCAGCGTTCGGCACGCCGATGAAGTAGAGTCCGATCGCA...  \n",
       "22       518616  CAGCAGCTCGCTTTGGCATCACACCTCAGCTCATCGATCAATCCCT...  \n",
       "23       518616  CAGCAGCTCGCTTTGGCATCACACCTCAGCTCATCGATCAATCCCT...  \n",
       "24       405279  TCGAACGACAGCGCAACCTCTGTGGCAACTAGATCTTACGGACTTA...  \n",
       "25       405279  TCGAACGACAGCGCAACCTCTGTGGCAACTAGATCTTACGGACTTA...  \n",
       "26       401248  ATTGTGCTGAACCTGTTCCACACAGCACGTAGAAGTGGCGAACATT...  \n",
       "27       401248  ATTGTGCTGAACCTGTTCCACACAGCACGTAGAAGTGGCGAACATT...  \n",
       "28       401248  ATTGTGCTGAACCTGTTCCACACAGCACGTAGAAGTGGCGAACATT...  \n",
       "29       401248  ATTGTGCTGAACCTGTTCCACACAGCACGTAGAAGTGGCGAACATT...  \n",
       "...         ...                                                ...  \n",
       "26334       204  AAATCTTTGACGCCTGCAGGGGGCTTTGCTATACTCGGCGAGTTCG...  \n",
       "26335       204  AAATCTTTGACGCCTGCAGGGGGCTTTGCTATACTCGGCGAGTTCG...  \n",
       "26336       203  GCCGGGGCTTCTTCTGCGGGTACCGTCATCATCGTCCCCGCCGAAA...  \n",
       "26337       203  GCCGGGGCTTCTTCTGCGGGTACCGTCATCATCGTCCCCGCCGAAA...  \n",
       "26338       203  GCCGGGGCTTCTTCTGCGGGTACCGTCATCATCGTCCCCGCCGAAA...  \n",
       "26339       203  GCCGGGGCTTCTTCTGCGGGTACCGTCATCATCGTCCCCGCCGAAA...  \n",
       "26340       202  ACGCAGATCAGCTACGCTGCGTTGAATACGTTCCCGGGCCTTGTAC...  \n",
       "26341       202  ACGCAGATCAGCTACGCTGCGTTGAATACGTTCCCGGGCCTTGTAC...  \n",
       "26342       202  ACGCAGATCAGCTACGCTGCGTTGAATACGTTCCCGGGCCTTGTAC...  \n",
       "26343       202  AAGACGACGTATAGGGTGTGACACGTGACCAATGCGGTAAGATTAC...  \n",
       "26344       202  AAGACGACGTATAGGGTGTGACACGTGACCAATGCGGTAAGATTAC...  \n",
       "26345       202  AAGACGACGTATAGGGTGTGACACGTGACCAATGCGGTAAGATTAC...  \n",
       "26346       202  GCTTGTGCGGGCCCCCGTCAATTCCTTTGAGTTTTAACCTTGCGGC...  \n",
       "26347       202  GCTTGTGCGGGCCCCCGTCAATTCCTTTGAGTTTTAACCTTGCGGC...  \n",
       "26348       202  GCTTGTGCGGGCCCCCGTCAATTCCTTTGAGTTTTAACCTTGCGGC...  \n",
       "26349       202  GCTTGTGCGGGCCCCCGTCAATTCCTTTGAGTTTTAACCTTGCGGC...  \n",
       "26350       202  GAAGCCCCGGTAAACGGCGGCCGTAACTATAACGGTCCTAAGGTAG...  \n",
       "26351       202  GAAGCCCCGGTAAACGGCGGCCGTAACTATAACGGTCCTAAGGTAG...  \n",
       "26352       202  GAAGCCCCGGTAAACGGCGGCCGTAACTATAACGGTCCTAAGGTAG...  \n",
       "26353       201  AGGCGCTGCATGGCTGTCGTCAGCTCGTGCCGTGAGGTGTTGGGTT...  \n",
       "26354       201  AGGCGCTGCATGGCTGTCGTCAGCTCGTGCCGTGAGGTGTTGGGTT...  \n",
       "26355       201  AGGCGCTGCATGGCTGTCGTCAGCTCGTGCCGTGAGGTGTTGGGTT...  \n",
       "26356       201  AGGCGCTGCATGGCTGTCGTCAGCTCGTGCCGTGAGGTGTTGGGTT...  \n",
       "26357       200  ACAAGTTCGCCGAGCAACTCGTTAAGACAGTCGAACGATCGTTACT...  \n",
       "26358       200  ACAAGTTCGCCGAGCAACTCGTTAAGACAGTCGAACGATCGTTACT...  \n",
       "26359       200  ACAAGTTCGCCGAGCAACTCGTTAAGACAGTCGAACGATCGTTACT...  \n",
       "26360       200  ACAAGTTCGCCGAGCAACTCGTTAAGACAGTCGAACGATCGTTACT...  \n",
       "26361       200  ACAAGTTCGCCGAGCAACTCGTTAAGACAGTCGAACGATCGTTACT...  \n",
       "26362       200  ACAAGTTCGCCGAGCAACTCGTTAAGACAGTCGAACGATCGTTACT...  \n",
       "26363       200  ACAAGTTCGCCGAGCAACTCGTTAAGACAGTCGAACGATCGTTACT...  \n",
       "\n",
       "[26364 rows x 16 columns]"
      ]
     },
     "execution_count": 125,
     "metadata": {},
     "output_type": "execute_result"
    }
   ],
   "source": [
    "recruited_mg[0]"
   ]
  },
  {
   "cell_type": "code",
   "execution_count": 56,
   "metadata": {
    "collapsed": false
   },
   "outputs": [],
   "source": [
    "# wps2_eval_cutoff['Seq_size']=wps2_eval_cutoff['Seq_nt'].apply(lambda x: len(x))\n",
    "# wps2_eval_cutoff = wps2_eval_cutoff[['quid', 'suid', 'iden', 'alen', 'mism', 'gapo', 'qsta', 'qend', 'ssta', 'send', 'eval', 'bits','Seq_size', 'Seq_nt']]\n",
    "# wps2_eval_cutoff"
   ]
  },
  {
   "cell_type": "markdown",
   "metadata": {},
   "source": [
    "# Filtering Step"
   ]
  },
  {
   "cell_type": "code",
   "execution_count": 136,
   "metadata": {
    "collapsed": true
   },
   "outputs": [],
   "source": [
    "for i in range(len(recruited_mg)):\n",
    "    recruited_mg[i]=recruited_mg[i][(recruited_mg[i]['iden']>=iden)&(recruited_mg[i]['Metric']>=metric)&(recruited_mg[i]['eval']<=e_value)]\n"
   ]
  },
  {
   "cell_type": "code",
   "execution_count": 144,
   "metadata": {
    "collapsed": false,
    "scrolled": true
   },
   "outputs": [
    {
     "name": "stdout",
     "output_type": "stream",
     "text": [
      "1955\n",
      "2637\n"
     ]
    }
   ],
   "source": [
    "print  len(recruited_mg[0])\n",
    "print len(recruited_mg[1])"
   ]
  },
  {
   "cell_type": "markdown",
   "metadata": {},
   "source": [
    "## Batch export to csv and multiple FASTA"
   ]
  },
  {
   "cell_type": "code",
   "execution_count": 152,
   "metadata": {
    "collapsed": false
   },
   "outputs": [],
   "source": [
    "#wps2_eval_cutoff.to_csv(path_or_buf=\"wps2_eval_cutoff.csv\", sep='\\t')\n",
    "prefix=\"iteration1_\"+str(version)+\"_\"+str(e_value)+\"_recruited_mg\"\n",
    "for i in range(len(recruited_mg)):\n",
    "    records= []\n",
    "    outfile1 = prefix+str(i)+\".csv\"\n",
    "#     try:\n",
    "#         os.remove(outfile1)     \n",
    "#     except OSError:\n",
    "#         pass\n",
    "    recruited_mg[i].to_csv(outfile1, sep='\\t')\n",
    "    ids = recruited_mg[i]['quid'].tolist()\n",
    "    #if len(ids)==len(sequences):\n",
    "    for j in range(len(ids)):\n",
    "        records.append(all_records[i][ids[j]])\n",
    "    outfile2 = prefix+str(i)+\".fasta\" \n",
    "#     try:\n",
    "#         os.remove(outfile2)        \n",
    "#     except OSError:\n",
    "#         pass\n",
    "    with open(outfile2, \"w\") as output_handle:\n",
    "        SeqIO.write(records, output_handle, \"fasta\")\n",
    "        \n",
    "\n",
    "    #print prefix+dataframe_name    "
   ]
  },
  {
   "cell_type": "code",
   "execution_count": null,
   "metadata": {
    "collapsed": true
   },
   "outputs": [],
   "source": []
  },
  {
   "cell_type": "code",
   "execution_count": null,
   "metadata": {
    "collapsed": true
   },
   "outputs": [],
   "source": []
  }
 ],
 "metadata": {
  "anaconda-cloud": {},
  "kernelspec": {
   "display_name": "Python [default]",
   "language": "python",
   "name": "python2"
  },
  "language_info": {
   "codemirror_mode": {
    "name": "ipython",
    "version": 2
   },
   "file_extension": ".py",
   "mimetype": "text/x-python",
   "name": "python",
   "nbconvert_exporter": "python",
   "pygments_lexer": "ipython2",
   "version": "2.7.12"
  }
 },
 "nbformat": 4,
 "nbformat_minor": 0
}
